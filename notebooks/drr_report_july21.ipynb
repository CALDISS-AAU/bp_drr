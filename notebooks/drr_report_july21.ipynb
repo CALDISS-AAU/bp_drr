{
 "cells": [
  {
   "cell_type": "code",
   "execution_count": 1,
   "metadata": {},
   "outputs": [],
   "source": [
    "# Load\n",
    "\n",
    "import os\n",
    "import pandas as pd\n",
    "import json\n",
    "from sklearn.feature_extraction.text import TfidfVectorizer\n",
    "import re\n",
    "import itertools\n",
    "from itertools import compress\n",
    "import numpy as np\n",
    "from collections import Counter\n",
    "\n",
    "# Gensim\n",
    "import gensim\n",
    "import gensim.corpora as corpora\n",
    "\n",
    "data_path = os.path.join('..', 'data')\n",
    "pdf_path = os.path.join(data_path, 'pdf')\n",
    "out_path = os.path.join('..', 'output')\n",
    "datafile = 'drr_scrape2021-07-08.json'\n",
    "datafile_tokenized = 'drr_scrape2021-07-08_tokenized.json'\n",
    "datafile_es = 'drr_scrape2021-07-08_es.json'\n",
    "\n",
    "path = os.path.join(data_path, datafile_tokenized)\n",
    "\n",
    "with open(path, 'r') as file:\n",
    "    data = json.load(file)\n",
    "    \n",
    "# Dummy functions for using existing tokens in sklearn vectorizer\n",
    "def return_tokens(tokens):\n",
    "    return tokens\n",
    "\n",
    "# Function for summarizing keywords with tf-idf\n",
    "def tfidf_summarize(token_list, n_words = 50):\n",
    "    vectorizer = TfidfVectorizer(\n",
    "        tokenizer=return_tokens,\n",
    "        preprocessor=return_tokens,\n",
    "        token_pattern=None,\n",
    "        norm = False)\n",
    "\n",
    "    # Fitting vectorizer\n",
    "    transformed_documents = vectorizer.fit_transform(token_list)\n",
    "    transformed_documents_as_array = transformed_documents.toarray()\n",
    "    df = pd.DataFrame(transformed_documents_as_array, columns = vectorizer.get_feature_names())\n",
    "\n",
    "    # Word count\n",
    "    word_tfidfsum = df.sum().sort_values(ascending = False)\n",
    "    word_tfidfsum_select = word_tfidfsum[0:n_words]\n",
    "    \n",
    "    return(word_tfidfsum_select)"
   ]
  },
  {
   "cell_type": "markdown",
   "metadata": {},
   "source": [
    "# DRR: Initial data exploration\n",
    "\n",
    "This report briefly the initial analysis process in a project at AAU on disaster risk reduction.\n",
    "\n",
    "The report contains the following:\n",
    "- Data sources and data collection (web scraping)\n",
    "- Data description\n",
    "- Initial keywords\n",
    "- Example topic model\n",
    "\n",
    "The report is meant to give an initial idea of the possibilities with the techniques used.\n",
    "\n",
    "## Data sources and data collection\n",
    "\n",
    "Two main data sources was initial identified for gaining insights into how international organizations work with disaster risk reduction:\n",
    "- The United Nations Inter-Agency Working Group (IAWG) on Disarmament, Demobilization and Reintegration (DDR) (UNDDR - https://www.unddr.org/)\n",
    "- The European Commission Disaster Risk Management Knowledge Centre (DRMKC - https://drmkc.jrc.ec.europa.eu/)\n",
    "\n",
    "The data collection consisted of two main steps:\n",
    "1. Scraping the textual content and links of all webpages on the two websites\n",
    "2. Identify and download the initial identified pdf documents on the websites\n",
    "\n",
    "The webpages and pdf documents was combined into a combined dataset containing all the texts. \n",
    "\n",
    "All the texts are made available on an Elasticsearch instance (link and login details sent via e-mail)."
   ]
  },
  {
   "cell_type": "markdown",
   "metadata": {},
   "source": [
    "**NOTE ON PDFs!:** Not all pdf documents have been downloaded. Both websites contain several search portal for searching through pdf documents on the site. Downloading all available pdf on these portals would require setting up a different scraper which was not done for this iteration of the project."
   ]
  },
  {
   "cell_type": "markdown",
   "metadata": {},
   "source": [
    "## Data description and initial keywords"
   ]
  },
  {
   "cell_type": "code",
   "execution_count": 2,
   "metadata": {},
   "outputs": [
    {
     "name": "stdout",
     "output_type": "stream",
     "text": [
      "The data consists of 433 texts in total. \n",
      "\n",
      "196 texts are from UN DDR (https://www.unddr.org). 133 from webpages and 63 from pdfs \n",
      "\n",
      "237 texts are from DRMKC EU (https://drmkc.jrc.ec.europa.eu). 151 from webpages and 86 from pdfs\n"
     ]
    }
   ],
   "source": [
    "data_un = [entry for entry in data if entry['org'] == 'unddr']\n",
    "data_drmkc = [entry for entry in data if entry['org'] == 'drmkc']\n",
    "\n",
    "print(f\"\"\"The data consists of {len(data)} texts in total. \\n\n",
    "{len(data_un)} texts are from UN DDR (https://www.unddr.org). {dict(Counter([entry.get('type') for entry in data_un]))['webpage']} from webpages and {dict(Counter([entry.get('type') for entry in data_un]))['pdf']} from pdfs \\n\n",
    "{len(data_drmkc)} texts are from DRMKC EU (https://drmkc.jrc.ec.europa.eu). {dict(Counter([entry.get('type') for entry in data_drmkc]))['webpage']} from webpages and {dict(Counter([entry.get('type') for entry in data_drmkc]))['pdf']} from pdfs\"\"\")"
   ]
  },
  {
   "cell_type": "markdown",
   "metadata": {},
   "source": [
    "In order to identify keywords (here understood as most occurring words), the texts have been 'tokenized'. 'Tokenization' is the process of converting raw text into standardized word values, so that words can be compared and counted regardless of casing or lemma. It also involves filtering out \"stop words\", meaning words that are semantically rather irrelevant. \n",
    "\n",
    "A pre-developed English language model from spaCy was used in the tokenization (https://spacy.io/).\n",
    "\n",
    "The tokenization involved the following steps:\n",
    "- Converting the text to lower-case\n",
    "- Splitting the text into individual words\n",
    "- Removing numbers and punctuation\n",
    "- Filtering out common stop words (as defined in the language model)\n",
    "- Keeping only nouns, proper nouns, adjectives and verbs\n",
    "- Filtering out words shorter than five characters\n",
    "- Converting the word to its lemma\n",
    "\n",
    "With the texts tokenized, the most occurring tokens can be identified.\n",
    "\n",
    "### Keywords based on counts\n",
    "\n",
    "**Top 50 most common terms based on counts across all data**"
   ]
  },
  {
   "cell_type": "code",
   "execution_count": 3,
   "metadata": {},
   "outputs": [
    {
     "data": {
      "text/plain": [
       "[('should', 6140),\n",
       " ('their', 4689),\n",
       " ('national', 4093),\n",
       " ('support', 3832),\n",
       " ('reintegration', 3675),\n",
       " ('international', 3664),\n",
       " ('management', 3532),\n",
       " ('disaster', 3504),\n",
       " ('security', 3323),\n",
       " ('information', 3290),\n",
       " ('groups', 3288),\n",
       " ('programmes', 3161),\n",
       " ('programme', 3071),\n",
       " ('european', 2836),\n",
       " ('processes', 2479),\n",
       " ('system', 2450),\n",
       " ('these', 2422),\n",
       " ('force', 2364),\n",
       " ('service', 2200),\n",
       " ('including', 2156),\n",
       " ('development', 2063),\n",
       " ('commission', 2016),\n",
       " ('crisis', 2007),\n",
       " ('community', 2002),\n",
       " ('demobilization', 1976),\n",
       " ('planning', 1976),\n",
       " ('activities', 1960),\n",
       " ('peace', 1905),\n",
       " ('measures', 1884),\n",
       " ('people', 1883),\n",
       " ('women', 1882),\n",
       " ('process', 1875),\n",
       " ('weapons', 1825),\n",
       " ('united', 1798),\n",
       " ('between', 1784),\n",
       " ('natural', 1756),\n",
       " ('assessment', 1716),\n",
       " ('excombatants', 1693),\n",
       " ('during', 1692),\n",
       " ('transitional', 1630),\n",
       " ('provide', 1612),\n",
       " ('health', 1594),\n",
       " ('inform', 1592),\n",
       " ('research', 1579),\n",
       " ('communities', 1573),\n",
       " ('different', 1560),\n",
       " ('disarmament', 1522),\n",
       " ('framework', 1514),\n",
       " ('impacts', 1512),\n",
       " ('human', 1511)]"
      ]
     },
     "execution_count": 3,
     "metadata": {},
     "output_type": "execute_result"
    }
   ],
   "source": [
    "# Keywords based on counts\n",
    "\n",
    "drr_tokens = [entry['tokens'] for entry in data]\n",
    "drr_tokens_flat = list(itertools.chain(*drr_tokens))\n",
    "\n",
    "un_tokens = [entry['tokens'] for entry in data_un]\n",
    "un_tokens_flat = list(itertools.chain(*un_tokens))\n",
    "\n",
    "drmkc_tokens = [entry['tokens'] for entry in data_drmkc]\n",
    "drmkc_tokens_flat = list(itertools.chain(*drmkc_tokens))\n",
    "\n",
    "tokens_counted = Counter(drr_tokens_flat)\n",
    "tokens_counted_un = Counter(un_tokens_flat)\n",
    "tokens_counted_drmkc = Counter(drmkc_tokens_flat)\n",
    "tokens_counted.most_common()[0:50]"
   ]
  },
  {
   "cell_type": "markdown",
   "metadata": {},
   "source": [
    "**Top 50 most common terms based on counts across data from UNDDR**"
   ]
  },
  {
   "cell_type": "code",
   "execution_count": 4,
   "metadata": {},
   "outputs": [
    {
     "data": {
      "text/plain": [
       "[('should', 5109),\n",
       " ('reintegration', 3675),\n",
       " ('their', 3373),\n",
       " ('support', 3177),\n",
       " ('programmes', 3039),\n",
       " ('national', 3038),\n",
       " ('programme', 2892),\n",
       " ('security', 2864),\n",
       " ('groups', 2819),\n",
       " ('international', 2321),\n",
       " ('force', 2298),\n",
       " ('processes', 2126),\n",
       " ('demobilization', 1976),\n",
       " ('peace', 1895),\n",
       " ('information', 1872),\n",
       " ('women', 1872),\n",
       " ('weapons', 1822),\n",
       " ('excombatants', 1693),\n",
       " ('including', 1673),\n",
       " ('transitional', 1626),\n",
       " ('process', 1556),\n",
       " ('activities', 1543),\n",
       " ('disarmament', 1522),\n",
       " ('community', 1519),\n",
       " ('these', 1519),\n",
       " ('planning', 1468),\n",
       " ('mission', 1429),\n",
       " ('rights', 1337),\n",
       " ('ensure', 1264),\n",
       " ('ammunition', 1237),\n",
       " ('development', 1234),\n",
       " ('integrated', 1196),\n",
       " ('provide', 1192),\n",
       " ('communities', 1186),\n",
       " ('measures', 1144),\n",
       " ('combatants', 1135),\n",
       " ('nations', 1122),\n",
       " ('include', 1105),\n",
       " ('during', 1080),\n",
       " ('management', 1067),\n",
       " ('where', 1053),\n",
       " ('training', 1048),\n",
       " ('united', 1036),\n",
       " ('political', 1031),\n",
       " ('service', 996),\n",
       " ('between', 939),\n",
       " ('gender', 939),\n",
       " ('violence', 938),\n",
       " ('needs', 938),\n",
       " ('assistance', 933)]"
      ]
     },
     "execution_count": 4,
     "metadata": {},
     "output_type": "execute_result"
    }
   ],
   "source": [
    "tokens_counted_un.most_common()[0:50]"
   ]
  },
  {
   "cell_type": "markdown",
   "metadata": {},
   "source": [
    "**Top 50 most common terms based on counts across data from DRMKC**"
   ]
  },
  {
   "cell_type": "code",
   "execution_count": 5,
   "metadata": {},
   "outputs": [
    {
     "data": {
      "text/plain": [
       "[('disaster', 3495),\n",
       " ('european', 2799),\n",
       " ('management', 2465),\n",
       " ('crisis', 1936),\n",
       " ('system', 1769),\n",
       " ('inform', 1495),\n",
       " ('commission', 1473),\n",
       " ('impacts', 1444),\n",
       " ('research', 1438),\n",
       " ('information', 1418),\n",
       " ('international', 1343),\n",
       " ('their', 1316),\n",
       " ('people', 1302),\n",
       " ('service', 1204),\n",
       " ('assessment', 1182),\n",
       " ('disasters', 1181),\n",
       " ('change', 1172),\n",
       " ('global', 1143),\n",
       " ('natural', 1127),\n",
       " ('damage', 1118),\n",
       " ('hazards', 1066),\n",
       " ('national', 1055),\n",
       " ('medium', 1035),\n",
       " ('should', 1031),\n",
       " ('index', 1010),\n",
       " ('different', 1003),\n",
       " ('science', 997),\n",
       " ('knowledge', 962),\n",
       " ('impact', 962),\n",
       " ('communication', 945),\n",
       " ('events', 942),\n",
       " ('centre', 920),\n",
       " ('model', 915),\n",
       " ('these', 903),\n",
       " ('reduction', 881),\n",
       " ('vulnerability', 881),\n",
       " ('complex', 860),\n",
       " ('severity', 853),\n",
       " ('between', 845),\n",
       " ('infrastructure', 844),\n",
       " ('africa', 842),\n",
       " ('development', 829),\n",
       " ('resilience', 826),\n",
       " ('population', 808),\n",
       " ('health', 804),\n",
       " ('report', 795),\n",
       " ('university', 790),\n",
       " ('framework', 781),\n",
       " ('protection', 775),\n",
       " ('europe', 774)]"
      ]
     },
     "execution_count": 5,
     "metadata": {},
     "output_type": "execute_result"
    }
   ],
   "source": [
    "tokens_counted_drmkc.most_common()[0:50]"
   ]
  },
  {
   "cell_type": "markdown",
   "metadata": {},
   "source": [
    "### Keywords based on TF-IDF\n",
    "\n",
    "A common way of weighing words is by using the metrics \"TF-IDF\": Term-frequency, inverse document frequency (https://en.wikipedia.org/wiki/Tf%E2%80%93idf).\n",
    "\n",
    "Briefly put, the metric \"punishes\" a word the more documents it occurs in. This on the assumption that words that occur in almost all documents are less relevant than words that occur in only some documents. Words that occur in all documents are often common words in general and may not be of interest for a specific topic."
   ]
  },
  {
   "cell_type": "markdown",
   "metadata": {},
   "source": [
    "**Top 50 terms based on TF-IDF across all data**"
   ]
  },
  {
   "cell_type": "code",
   "execution_count": 6,
   "metadata": {},
   "outputs": [
    {
     "data": {
      "text/plain": [
       "should            14188.745480\n",
       "their              9765.367421\n",
       "reintegration      9666.695295\n",
       "disaster           8864.243130\n",
       "national           8441.441019\n",
       "support            7802.304282\n",
       "groups             7771.235126\n",
       "programmes         7471.068806\n",
       "international      7320.198314\n",
       "programme          7258.352516\n",
       "management         7237.647295\n",
       "security           7154.630370\n",
       "european           6807.011724\n",
       "information        6593.621692\n",
       "force              6274.538082\n",
       "processes          5544.934553\n",
       "these              5436.737990\n",
       "system             5257.187580\n",
       "demobilization     5244.706958\n",
       "women              5136.428009\n",
       "weapons            5103.390608\n",
       "service            4973.892393\n",
       "peace              4944.823206\n",
       "excombatants       4933.675336\n",
       "crisis             4817.232909\n",
       "including          4771.728472\n",
       "natural            4703.613486\n",
       "commission         4641.557578\n",
       "community          4626.362940\n",
       "transitional       4558.096817\n",
       "activities         4546.130512\n",
       "planning           4532.787977\n",
       "measures           4419.217252\n",
       "development        4397.082556\n",
       "process            4348.976893\n",
       "people             4272.571230\n",
       "disarmament        4039.698376\n",
       "between            4018.929136\n",
       "impacts            3977.154636\n",
       "assessment         3965.453948\n",
       "inform             3944.856097\n",
       "united             3911.018112\n",
       "during             3909.993054\n",
       "ammunition         3827.319065\n",
       "mission            3796.495593\n",
       "communities        3790.309357\n",
       "rights             3787.963875\n",
       "ensure             3779.446129\n",
       "research           3717.827602\n",
       "health             3711.011175\n",
       "dtype: float64"
      ]
     },
     "execution_count": 6,
     "metadata": {},
     "output_type": "execute_result"
    }
   ],
   "source": [
    "tfidf_summarize(drr_tokens)"
   ]
  },
  {
   "cell_type": "markdown",
   "metadata": {},
   "source": [
    "**Top 50 terms based on TF-IDF across data from UNDDR**"
   ]
  },
  {
   "cell_type": "code",
   "execution_count": 7,
   "metadata": {},
   "outputs": [
    {
     "data": {
      "text/plain": [
       "should            10395.325658\n",
       "reintegration      6764.030336\n",
       "their              6585.682620\n",
       "support            5923.081635\n",
       "national           5813.990352\n",
       "programmes         5702.636339\n",
       "groups             5617.546147\n",
       "programme          5571.423257\n",
       "security           5480.996830\n",
       "force              4810.975571\n",
       "international      4657.173792\n",
       "processes          4015.492224\n",
       "women              3756.238405\n",
       "weapons            3733.455142\n",
       "demobilization     3683.981527\n",
       "information        3679.819632\n",
       "peace              3602.730593\n",
       "excombatants       3596.474853\n",
       "transitional       3331.832086\n",
       "including          3288.642224\n",
       "process            3188.395281\n",
       "activities         3161.757017\n",
       "these              3090.722191\n",
       "community          3090.722191\n",
       "darfur             3034.839366\n",
       "mission            2887.328584\n",
       "planning           2885.670523\n",
       "ammunition         2884.634533\n",
       "disarmament        2837.560670\n",
       "rights             2819.487605\n",
       "ensure             2665.544004\n",
       "measures           2504.054886\n",
       "communities        2465.114176\n",
       "development        2442.257076\n",
       "provide            2359.133254\n",
       "combatants         2359.110109\n",
       "include            2313.371630\n",
       "integrated         2304.087903\n",
       "service            2196.843620\n",
       "during             2167.060618\n",
       "management         2126.258155\n",
       "training           2117.508997\n",
       "political          2112.619238\n",
       "police             2108.387888\n",
       "nations            2078.378135\n",
       "where              2055.951319\n",
       "human              2018.094444\n",
       "assistance         1996.684379\n",
       "between            1965.842499\n",
       "needs              1935.746870\n",
       "dtype: float64"
      ]
     },
     "execution_count": 7,
     "metadata": {},
     "output_type": "execute_result"
    }
   ],
   "source": [
    "tfidf_summarize(un_tokens)"
   ]
  },
  {
   "cell_type": "markdown",
   "metadata": {},
   "source": [
    "**Top 50 terms based on TF-IDF across data from DRMKC**"
   ]
  },
  {
   "cell_type": "code",
   "execution_count": 8,
   "metadata": {},
   "outputs": [
    {
     "data": {
      "text/plain": [
       "disaster          7052.642204\n",
       "european          5552.192417\n",
       "management        5152.451556\n",
       "crisis            4171.659036\n",
       "system            3933.858739\n",
       "impacts           3482.679146\n",
       "inform            3390.029191\n",
       "commission        3193.766820\n",
       "research          3060.733032\n",
       "change            3000.610267\n",
       "people            2991.844192\n",
       "their             2889.415594\n",
       "information       2878.000334\n",
       "natural           2819.730063\n",
       "service           2766.651618\n",
       "should            2681.702822\n",
       "international     2664.020870\n",
       "assessment        2662.765829\n",
       "damage            2658.521393\n",
       "global            2644.202016\n",
       "disasters         2643.271884\n",
       "hazards           2552.785623\n",
       "communication     2540.236583\n",
       "science           2532.823706\n",
       "medium            2532.561147\n",
       "vulnerability     2329.037393\n",
       "national          2316.362805\n",
       "journal           2315.031774\n",
       "model             2306.739664\n",
       "complex           2292.423038\n",
       "index             2275.290598\n",
       "different         2274.380788\n",
       "severity          2273.763781\n",
       "events            2271.941659\n",
       "these             2209.567842\n",
       "infrastructure    2195.302795\n",
       "university        2179.371900\n",
       "africa            2172.739216\n",
       "resilience        2148.483541\n",
       "knowledge         2139.271965\n",
       "reduction         2124.820171\n",
       "function          2087.524330\n",
       "centre            2072.541931\n",
       "health            2058.439125\n",
       "between           2023.549579\n",
       "population        2006.495595\n",
       "impact            1987.060472\n",
       "chapter           1975.739564\n",
       "heritage          1960.646223\n",
       "stable            1951.241066\n",
       "dtype: float64"
      ]
     },
     "execution_count": 8,
     "metadata": {},
     "output_type": "execute_result"
    }
   ],
   "source": [
    "tfidf_summarize(drmkc_tokens)"
   ]
  },
  {
   "cell_type": "markdown",
   "metadata": {},
   "source": [
    "## Topic modelling (example)\n",
    "\n",
    "A topic model is a model that tries to extract a set number of topics in a collection of documents. The model is built on the assumption that a text is compiled of this set number of topics. Simply put a topic is a probability distribution over the words in all the texts. The different topics thus indicate what words often occur together in a text.\n",
    "\n",
    "A somewhat easy to understand description of how topic models work can be found here: http://www.cs.columbia.edu/~blei/papers/Blei2012.pdf\n",
    "\n",
    "To make proper use of a topic model, it makes sense to try and identify what the topic is actually capturing: what does the words in the topic have in common and what texts are associated with different topics? \n",
    "\n",
    "From that key texts within each topic can be identified and it is possible to compare and contrast the prevalence of different topics across organizations.\n",
    "\n",
    "Creating a proper topic model involves fine-tuning the different parameters in the model as well as trying out different pre-processing techniques. Texts - especially from websites - can be tricky and involve a lot of \"noise\" that is specific to the data. \n",
    "\n",
    "In this example, a simple model have been put together simply to illustrate some of the outputs it can produce. Using this technique would involve more work than what has been put in for this report.\n",
    "\n",
    "### Example topic model\n",
    "\n",
    "A topic model has been created using the texts from the two websites. The model was set to identify 10 topics (finding the optimal number of topics both involves trying out different parameters - the fine-tuning refered to above - as well as evaulating the outputs qualitatively). "
   ]
  },
  {
   "cell_type": "code",
   "execution_count": 9,
   "metadata": {},
   "outputs": [],
   "source": [
    "## Dictionary and filter extremes\n",
    "id2token = corpora.Dictionary([entry.get('tokens') for entry in data])\n",
    "id2token.filter_extremes(no_below=0.05, no_above=0.95)\n",
    "\n",
    "## Gensim doc2bow corpus\n",
    "for entry in data:\n",
    "    entry['doc2bow'] = id2token.doc2bow(entry.get('tokens'))    \n",
    "    \n",
    "tokens_bow = [entry.get('doc2bow') for entry in data]\n",
    "\n",
    "lda_model = gensim.models.LdaMulticore.load(os.path.join(out_path, 'lda_model'))"
   ]
  },
  {
   "cell_type": "markdown",
   "metadata": {},
   "source": [
    "The most likely words within each of the 10 topics can be seen below:"
   ]
  },
  {
   "cell_type": "code",
   "execution_count": 10,
   "metadata": {},
   "outputs": [
    {
     "name": "stdout",
     "output_type": "stream",
     "text": [
      "[(0,\n",
      "  [('disaster', 0.01122476),\n",
      "   ('management', 0.007977575),\n",
      "   ('european', 0.0079092765),\n",
      "   ('system', 0.005714025),\n",
      "   ('impacts', 0.0048752055),\n",
      "   ('their', 0.004089153),\n",
      "   ('change', 0.003980041),\n",
      "   ('disasters', 0.0038803057),\n",
      "   ('information', 0.003842459),\n",
      "   ('research', 0.0038103017)]),\n",
      " (1,\n",
      "  [('function', 0.018646052),\n",
      "   ('newcategorysectionsettingscategorysection', 0.015501083),\n",
      "   ('european', 0.011650168),\n",
      "   ('return', 0.011440888),\n",
      "   ('commission', 0.010161978),\n",
      "   ('found', 0.009384863),\n",
      "   ('university', 0.009039401),\n",
      "   ('research', 0.008704226),\n",
      "   ('centre', 0.008032969),\n",
      "   ('joint', 0.0071320636)]),\n",
      " (2,\n",
      "  [('inform', 0.028230362),\n",
      "   ('index', 0.017968168),\n",
      "   ('severity', 0.015301224),\n",
      "   ('crisis', 0.011634377),\n",
      "   ('people', 0.008789542),\n",
      "   ('dimension', 0.0065143546),\n",
      "   ('population', 0.0063117063),\n",
      "   ('indicators', 0.006056953),\n",
      "   ('model', 0.0054247826),\n",
      "   ('vulnerability', 0.0050228564)]),\n",
      " (3,\n",
      "  [('reintegration', 0.008804386),\n",
      "   ('natural', 0.008298727),\n",
      "   ('transitional', 0.006805207),\n",
      "   ('excombatants', 0.0064840415),\n",
      "   ('women', 0.0064297267),\n",
      "   ('processes', 0.0062312484),\n",
      "   ('their', 0.0061701154),\n",
      "   ('measures', 0.0052329735),\n",
      "   ('resources', 0.004700761),\n",
      "   ('programmes', 0.004556504)]),\n",
      " (4,\n",
      "  [('political', 0.020809168),\n",
      "   ('peace', 0.015362138),\n",
      "   ('groups', 0.010379431),\n",
      "   ('party', 0.009681571),\n",
      "   ('agreements', 0.008419246),\n",
      "   ('process', 0.007972355),\n",
      "   ('processes', 0.007656745),\n",
      "   ('security', 0.0072692744),\n",
      "   ('support', 0.0061408808),\n",
      "   ('their', 0.0058007687)]),\n",
      " (5,\n",
      "  [('should', 0.012910303),\n",
      "   ('their', 0.009746704),\n",
      "   ('national', 0.009121665),\n",
      "   ('security', 0.008510588),\n",
      "   ('support', 0.007445726),\n",
      "   ('weapons', 0.0074379933),\n",
      "   ('groups', 0.007361141),\n",
      "   ('international', 0.007240305),\n",
      "   ('reintegration', 0.0068457862),\n",
      "   ('force', 0.0062966184)]),\n",
      " (6,\n",
      "  [('darfur', 0.01574348),\n",
      "   ('unamid', 0.011957723),\n",
      "   ('north', 0.004458772),\n",
      "   ('clips', 0.004242103),\n",
      "   ('voices', 0.00423271),\n",
      "   ('projects', 0.004076089),\n",
      "   ('august', 0.0035801758),\n",
      "   ('darfuri', 0.0032943746),\n",
      "   ('tayeb', 0.003184912),\n",
      "   ('adekoya', 0.0029269555)]),\n",
      " (7,\n",
      "  [('should', 0.014581957),\n",
      "   ('programme', 0.012205478),\n",
      "   ('programmes', 0.012100976),\n",
      "   ('reintegration', 0.011162087),\n",
      "   ('support', 0.009632141),\n",
      "   ('demobilization', 0.007360209),\n",
      "   ('national', 0.0064081512),\n",
      "   ('groups', 0.006284259),\n",
      "   ('information', 0.005906183),\n",
      "   ('security', 0.0057948185)]),\n",
      " (8,\n",
      "  [('crisis', 0.035030577),\n",
      "   ('medium', 0.028419739),\n",
      "   ('complex', 0.026642952),\n",
      "   ('africa', 0.02466639),\n",
      "   ('international', 0.022475878),\n",
      "   ('stable', 0.02117655),\n",
      "   ('displacement', 0.015591239),\n",
      "   ('increasing', 0.012872733),\n",
      "   ('conflict', 0.011646599),\n",
      "   ('multiple', 0.008308646)]),\n",
      " (9,\n",
      "  [('reintegration', 0.010788379),\n",
      "   ('women', 0.007282469),\n",
      "   ('transitional', 0.0072170687),\n",
      "   ('excombatants', 0.0071795327),\n",
      "   ('processes', 0.0070756725),\n",
      "   ('their', 0.0065204673),\n",
      "   ('programmes', 0.005586215),\n",
      "   ('measures', 0.005466786),\n",
      "   ('should', 0.0054646167),\n",
      "   ('locally', 0.004855146)])]\n"
     ]
    }
   ],
   "source": [
    "from pprint import pprint \n",
    "\n",
    "# Show Topics\n",
    "pprint(lda_model.show_topics(formatted=False, num_topics=10))"
   ]
  },
  {
   "cell_type": "markdown",
   "metadata": {},
   "source": [
    "The model can be used to identify the topics in the texts. "
   ]
  },
  {
   "cell_type": "code",
   "execution_count": 52,
   "metadata": {},
   "outputs": [
    {
     "data": {
      "text/plain": [
       "[(5, 0.2899878), (7, 0.30732593), (8, 0.40228155)]"
      ]
     },
     "execution_count": 52,
     "metadata": {},
     "output_type": "execute_result"
    }
   ],
   "source": [
    "lda_model[tokens_bow[21]]"
   ]
  },
  {
   "cell_type": "markdown",
   "metadata": {},
   "source": [
    "The output above shows that text 21 (corresponding to this text: https://www.unddr.org/the-ddr-bulletin-map-test/) consists of 29 % topic 5, 31% topic 7 and 40% topic 8."
   ]
  },
  {
   "cell_type": "markdown",
   "metadata": {},
   "source": [
    "A mean topic probability is calculated across all the texts below:"
   ]
  },
  {
   "cell_type": "code",
   "execution_count": 53,
   "metadata": {},
   "outputs": [
    {
     "data": {
      "text/plain": [
       "topic\n",
       "0    0.267625\n",
       "1    0.157956\n",
       "2    0.169609\n",
       "3    0.117099\n",
       "4    0.104254\n",
       "5    0.231530\n",
       "6    0.102894\n",
       "7    0.183316\n",
       "8    0.166712\n",
       "9    0.103568\n",
       "Name: prob, dtype: float64"
      ]
     },
     "execution_count": 53,
     "metadata": {},
     "output_type": "execute_result"
    }
   ],
   "source": [
    "# Topic prob for all texts\n",
    "\n",
    "for entry in data:\n",
    "    entry['topic_prob'] = lda_model[entry['doc2bow']]\n",
    "    \n",
    "df = pd.DataFrame.from_records(data)\n",
    "df = df.loc[:, ['id', 'org', 'topic_prob']]\n",
    "df = df.explode('topic_prob').reset_index(drop = True)\n",
    "\n",
    "df['topic'] = 0\n",
    "df['prob'] = 0\n",
    "\n",
    "for row in range(df.shape[0]):\n",
    "    df.loc[row, 'topic'] = df.loc[row, 'topic_prob'][0]\n",
    "    df.loc[row, 'prob'] = df.loc[row, 'topic_prob'][1]\n",
    "\n",
    "df.groupby('topic')['prob'].mean()"
   ]
  },
  {
   "cell_type": "markdown",
   "metadata": {},
   "source": [
    "This indicates that topic 0 and 5 are the most prevalent topics in the data.\n",
    "\n",
    "Below the mean probabilities are calculated for each organization:"
   ]
  },
  {
   "cell_type": "code",
   "execution_count": 56,
   "metadata": {},
   "outputs": [
    {
     "data": {
      "text/plain": [
       "org    topic\n",
       "drmkc  0        0.379858\n",
       "       1        0.203076\n",
       "       2        0.218982\n",
       "       3        0.125504\n",
       "       4        0.099662\n",
       "       5        0.101839\n",
       "       6        0.100968\n",
       "       7        0.101872\n",
       "       8        0.222663\n",
       "       9        0.099669\n",
       "unddr  0        0.098370\n",
       "       1        0.099214\n",
       "       2        0.097106\n",
       "       3        0.108001\n",
       "       4        0.108762\n",
       "       5        0.323969\n",
       "       6        0.104720\n",
       "       7        0.238617\n",
       "       8        0.112833\n",
       "       9        0.107720\n",
       "Name: prob, dtype: float64"
      ]
     },
     "execution_count": 56,
     "metadata": {},
     "output_type": "execute_result"
    }
   ],
   "source": [
    "df.groupby(['org', 'topic'])['prob'].mean()"
   ]
  },
  {
   "cell_type": "markdown",
   "metadata": {},
   "source": [
    "This indicates that topic 0 is the most prevalent in the DRMKC texts and topic 5 is the most prevalent in the UNDDR texts."
   ]
  }
 ],
 "metadata": {
  "kernelspec": {
   "display_name": "Python 3.8, tm",
   "language": "python",
   "name": "tmenv"
  },
  "language_info": {
   "codemirror_mode": {
    "name": "ipython",
    "version": 3
   },
   "file_extension": ".py",
   "mimetype": "text/x-python",
   "name": "python",
   "nbconvert_exporter": "python",
   "pygments_lexer": "ipython3",
   "version": "3.8.10"
  }
 },
 "nbformat": 4,
 "nbformat_minor": 4
}
