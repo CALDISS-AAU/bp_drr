{
 "cells": [
  {
   "cell_type": "code",
   "execution_count": 4,
   "metadata": {},
   "outputs": [],
   "source": [
    "# Packages\n",
    "\n",
    "import os\n",
    "import pandas as pd\n",
    "import json\n",
    "import seaborn as sns\n",
    "from matplotlib import pyplot as plt\n",
    "import spacy\n",
    "from sklearn.feature_extraction.text import TfidfVectorizer\n",
    "from datetime import datetime\n",
    "import re\n",
    "import itertools\n",
    "from itertools import compress\n",
    "import ast\n",
    "import numpy as np\n",
    "from collections import Counter\n",
    "import pickle\n",
    "\n",
    "# Gensim\n",
    "import gensim\n",
    "import gensim.corpora as corpora\n",
    "from gensim.utils import simple_preprocess\n",
    "from gensim.models import CoherenceModel\n",
    "from gensim.test.utils import get_tmpfile, common_texts\n",
    "from gensim.corpora import MalletCorpus\n",
    "\n",
    "%matplotlib inline\n",
    "sns.set(rc={'figure.figsize':(20,12)})\n",
    "\n",
    "data_path = os.path.join('..', 'data')\n",
    "out_path = os.path.join('..', 'output')\n",
    "datafile = 'drr_scrape2021-07-02.json'\n",
    "datafile_tokenized = 'drr_scrape2021-07-02_tokenized.json'"
   ]
  },
  {
   "cell_type": "code",
   "execution_count": 5,
   "metadata": {},
   "outputs": [],
   "source": [
    "# Creating directories\n",
    "\n",
    "if not os.path.isdir(out_path):\n",
    "    os.mkdir(out_path)"
   ]
  },
  {
   "cell_type": "code",
   "execution_count": 6,
   "metadata": {},
   "outputs": [
    {
     "name": "stdout",
     "output_type": "stream",
     "text": [
      "The data consists of 13575 texts\n"
     ]
    }
   ],
   "source": [
    "# Loading data\n",
    "path = os.path.join(data_path, datafile_tokenized)\n",
    "is_tokenized = True\n",
    "\n",
    "if not os.path.isfile(path):\n",
    "    path = os.path.join(data_path, datafile)\n",
    "    is_tokenized = False\n",
    "\n",
    "with open(path, 'r') as file:\n",
    "    data = json.load(file)\n",
    "    \n",
    "print(f\"The data consists of {len(data)} texts\")"
   ]
  },
  {
   "cell_type": "code",
   "execution_count": 7,
   "metadata": {},
   "outputs": [],
   "source": [
    "# Functions\n",
    "\n",
    "import spacy\n",
    "nlp = spacy.load(\"da_core_news_sm\", disable=[\"ner\"])\n",
    "\n",
    "stop_words = list(nlp.Defaults.stop_words)\n",
    "                                            \n",
    "def tokenizer_custom(text, stop_words=stop_words, tags=['NOUN', 'ADJ', 'VERB', 'PROPN']):\n",
    "       \n",
    "    text = text.replace('\\n', ' ')\n",
    "    numbers_re = r\".*\\d.*\"\n",
    "    punct_regex = r\"[^\\w\\s]\"\n",
    "    \n",
    "    doc = nlp(text)\n",
    "        \n",
    "    pos_tags = tags # Keeps proper nouns, adjectives and nouns\n",
    "    \n",
    "    tokens = []\n",
    "      \n",
    "    for word in doc:\n",
    "        if (word.pos_ in pos_tags) and (len(word.lemma_) > 4) and (word.lemma_.lower() not in stop_words) and not (re.match(numbers_re, word.lemma_.lower())):\n",
    "            token = word.lemma_.lower() # Returning the word in lower-case.\n",
    "            token = re.sub(punct_regex, \"\", token)\n",
    "            tokens.append(token)\n",
    "\n",
    "    return(tokens)\n",
    "\n",
    "\n",
    "def return_tokens(tokens):\n",
    "    return tokens"
   ]
  },
  {
   "cell_type": "code",
   "execution_count": 8,
   "metadata": {},
   "outputs": [],
   "source": [
    "# Tokenize data\n",
    "if not is_tokenized:\n",
    "    for entry in data:\n",
    "        entry['tokens'] = tokenizer_custom(entry.get('page_text'))\n",
    "        \n",
    "    # Save tokenized data\n",
    "    outname = \"drr_scrape2021-07-02_tokenized.json\"\n",
    "    with open(os.path.join(data_path, outname), 'w', encoding = 'utf-8') as f:\n",
    "        json.dump(data, f)"
   ]
  },
  {
   "cell_type": "code",
   "execution_count": 9,
   "metadata": {},
   "outputs": [
    {
     "name": "stdout",
     "output_type": "stream",
     "text": [
      "Counter({'function': 81324, 'newcategorysectionsettingscategorysection': 55149, 'return': 42167, 'found': 31688, 'inform': 27549, 'index': 23088, 'disaster': 22225, 'koutilsarrayforeach': 19017, 'european': 17480, 'download': 15858, 'delete': 14733, 'management': 14573, 'termid': 14102, 'document': 13785, 'selected': 12732, 'itemscount': 12354, 'knowledge': 11383, 'island': 10830, 'overview': 10662, 'information': 10543, 'descendantsids': 10141, 'findnodebyname': 10141, 'drmkc': 9786, 'severity': 9748, 'parenttermid': 9356, 'intposition': 9196, 'science': 8342, 'union': 8274, 'english': 7983, 'documents': 7824, 'partnership': 7493, 'button': 7430, 'acting': 7272, 'today': 7268, 'protecting': 7268, 'tomorrow': 7268, 'working': 7241, 'publications': 7145, 'parent': 7137, 'description': 7076, 'modal': 6957, 'commission': 6760, 'vocaluarycategorysettingscompletisenzahome': 6657, 'createnode': 6657, 'property': 6657, 'retval': 6657, 'findancestor': 6657, 'marin': 6597, 'result': 6572, 'casajus': 6471, 'ferrer': 6437, 'luxembourg': 6377, 'office': 6303, 'development': 6277, 'valles': 6201, 'items': 6177, 'damage': 6158, 'national': 6073, 'group': 5958, 'dimension': 5934, 'clark': 5920, 'model': 5901, 'iddata': 5860, 'debugger': 5860, 'global': 5851, 'width': 5776, 'poljanšek': 5760, 'meeting': 5754, 'workshop': 5655, 'recording': 5574, 'color': 5461, 'category': 5390, 'desktopmodules': 5280, 'innovation': 5175, 'blanke': 5030, 'research': 4997, 'could': 4910, 'united': 4864, 'toppe': 4829, 'backgroundcolor': 4789, 'details': 4766, 'crisis': 4764, 'event': 4719, 'states': 4714, 'close': 4675, 'republic': 4658, 'saint': 4650, 'framework': 4609, 'catch': 4592, 'system': 4527, 'indicators': 4462, 'collection': 4459, 'oldview': 4444, 'userid': 4438, 'vocaluarycategorysettingsdatacompleti': 4438, 'vocaluarycategorysettingshomeid': 4438, 'currenttermscategorysettingsdatacompleti': 4438, 'database': 4429, 'searchfor': 4278, 'temphierarchy': 4278, 'country': 4227, 'parenttermidnull': 4118, 'filestext': 4118, 'title': 3985, 'solid': 3934, 'health': 3912, 'crises': 3900, 'modalstyledisplay': 3865, 'response': 3815, 'organisation': 3807, 'height': 3806, 'rsslink': 3801, 'getrss': 3801, 'dreturn': 3801, 'namename': 3801, 'var': 3801, 'dodici': 3801, 'useridtostring': 3801, 'centre': 3778, 'disasters': 3741, 'technical': 3698, 'available': 3671, 'linked': 3638, 'consolelog': 3566, 'please': 3552, 'subnational': 3542, 'datacompleti': 3491, 'images': 3488, 'source': 3485, 'zippe': 3484, 'filetypeimagespath': 3484, 'upload': 3484, 'files': 3484, 'dnnimagehandlerashx': 3484, 'different': 3469, 'international': 3415, 'member': 3375, 'standard': 3328, 'their': 3300, 'sources': 3243, 'explorer': 3162, 'sendai': 3125, 'guinea': 3104, 'support': 3102, 'otherorgaddclassecludnone': 3092, 'extend': 3082, 'policy': 3050, 'about': 3012, 'vulnerability': 3004, 'assessment': 3000, 'hazard': 2947, 'capacity': 2906, 'position': 2872, 'relevant': 2866, 'downloads': 2845, 'existing': 2794, 'service': 2785, 'categories': 2699, 'terms': 2697, 'currenttermscategorysettingsisinhome': 2696, 'display': 2639, 'choose': 2634, 'exposure': 2605, 'warning': 2536, 'early': 2530, 'article': 2521, 'based': 2519, 'prevention': 2504, 'whoare': 2499, 'rootfolderpath': 2499, 'applicationadd_load': 2499, 'momentlocaleen': 2499, 'block': 2495, 'borde': 2473, 'reduction': 2405, 'documentready': 2385, 'enabledvocabularies': 2379, 'homeid': 2379, 'epidemic': 2359, 'organization': 2328, 'while': 2327, 'south': 2327, 'default': 2323, 'china': 2323, 'french': 2319, 'cname': 2319, 'expires': 2319, 'fileurl': 2319, 'thisval': 2319, 'organizationdropdownaddclassecludnone': 2319, 'countrydropdownaddclassecludnone': 2319, 'download_file': 2319, 'orgid': 2319, 'otherorg': 2319, 'otherpurp': 2319, 'validationstyledisplay': 2319, 'moduleid': 2317, 'introduction': 2257, 'italy': 2256, 'march': 2240, 'action': 2229, 'summary': 2221, 'currentuserid': 2219, 'enablepaging': 2219, 'pagingoptions': 2219, 'pagesize': 2219, 'categorysection': 2219, 'isenable': 2219, 'vocaluarycategorysettings': 2219, 'name': 2219, 'datacompletihierarchy': 2219, 'isautomaticfiltering': 2219, 'currenttermscategorysettings': 2219, 'falsedice': 2219, 'homepage': 2219, 'vocaluarycategorysettingssoloidspush': 2219, 'vocaluarycategorysettingssolonamepush': 2219, 'newcategorysectionsettingscategorysectionvocaluarycategorysettingshome': 2219, 'vocaluarycategorysettingscompletisenzahomepush': 2219, 'hierarchy': 2219, 'utils': 2219, 'utility': 2219, 'selflength': 2219, 'itemhasownproperty': 2219, 'propertytolowercase': 2219, 'searchfortolowercase': 2219, 'arrayprototypeinarray': 2219, 'findnode': 2219, 'findancestorname': 2219, 'descendantsidspush': 2219, 'vocaluarycategorysettingsdatacompletihierarchy': 2219, 'cancel': 2219, 'forest': 2214, 'developing': 2205, 'coping': 2201, 'sharing': 2190, 'report': 2188, 'tabid': 2186, 'experts': 2177, 'joint': 2169, 'protection': 2165, 'projects': 2141, 'methodology': 2133, 'flood': 2126, 'analysis': 2120, 'impact': 2089, 'center': 2073, 'rssshow': 2059, 'completisenzahomesolonamesenzahomepartnership': 2059, 'creazione': 2059, 'parentparent': 2059, 'dataname': 2059, 'parentnull': 2059, 'canceltext': 2059, 'getuserprofileurl': 2059, 'userprofileurltemplate': 2059, 'userprofileurlplaceholder': 2059, 'deletetext': 2059, 'deletetitle': 2059, 'deleteconfirmtext': 2059, 'itemsreplaceitems': 2059, 'grid': 2059, 'provide': 2043, 'public': 2042, 'process': 2040, 'emergency': 2034, 'measures': 2025, 'linear': 2022, 'infinite': 2022, 'transform': 2022, 'original': 2016, 'including': 2007, 'region': 1953, 'margin': 1948, 'method': 1948, 'bordercolor': 1920, 'norway': 1902, 'important': 1888, 'conclusions': 1881, 'components': 1855, 'scientific': 1846, 'events': 1845, 'guidelines': 1802, 'people': 1798, 'informindex': 1788, 'format': 1786, 'fixed': 1784, 'survey': 1751, 'selezionato': 1747, 'sector': 1743, 'critechdocumentitems': 1742, 'drmkcjrceceuropaeu': 1742, 'maxfileuploadsize': 1742, 'maxfileuploadsizehumanreadable': 1742, 'commentsenabled': 1742, 'linkdocument': 1742, 'showrsslink': 1742, 'allowtosubscribe': 1742, 'issubscribed': 1742, 'displaycreationinfo': 1742, 'allowsorting': 1742, 'sortingfields': 1742, 'sortexpression': 1742, 'labels': 1742, 'createdondatecreatedlastmodifiedondateupdatedinfodatetimeinfo': 1742, 'datecontenttitledownloadcountnr': 1742, 'solonameoverview': 1742, 'solonamesenzahomepartnership': 1742, 'nullhomename': 1742, 'homename': 1742, 'currenttermscategorysettingssoloidspush': 1742, 'currenttermscategorysettingssolonamepush': 1742, 'currenttermscategorysettingshome': 1742, 'currenttermscategorysettingshomeid': 1742, 'currenttermscategorysettingshomename': 1742, 'currenttermscategorysettingssoloidssenzahomepush': 1742, 'currenttermscategorysettingssolonamesenzahomepush': 1742, 'imagespath': 1742, 'filetypeimagesdictionary': 1742, 'aacaacpngaiaipngaiffaiffpngaviavipngbmpbmppngccpngcppcpppngcsscsspngdatdatpngdmgdmgpngdocdocpngdocxdocxpngdotxdotxpngdwgdwgpngdxfdxfpngepsepspngexeexepngfilefilepngflvflvpnggifgifpnghhpnghpphpppnghtmlhtmlpngicsicspngisoisopngjavajavapngjpg': 1742, 'copyjpg': 1742, 'displayfiletypeicon': 1742, 'defaulticonsize': 1742, 'defaultlargeiconsize': 1742, 'defaulticonstyle': 1742, 'defaulticonlocation': 1742, 'icons': 1742, 'sigma': 1742, 'iconkeyname': 1742, 'iconkey': 1742, 'iconsizename': 1742, 'iconsize': 1742, 'iconstylename': 1742, 'iconstyle': 1742, 'uploadfilestitle': 1742, 'maxfileuploadsizeerrortext': 1742, 'uploaded': 1742, 'bigger': 1742, 'maxfilesize': 1742, 'getuserprofileavatar': 1742, 'userprofileavatar': 1742, 'nfilestext': 1742, 'uploadfiletext': 1742, 'localization': 1742, 'downloadfile': 1742, 'jrccritechkointializedocumentsgrid': 1742, 'jrccritechkodocumentitems': 1742, 'initializesubscribe': 1742, 'special': 1738, 'private': 1714, 'sectors': 1707, 'using': 1702, 'hazards': 1697, 'quantitative': 1695, 'output': 1694, 'needs': 1640, 'civil': 1634, 'participants': 1628, 'loade': 1623, 'second': 1620, 'focus': 1609, 'through': 1606, 'guidance': 1597, 'human': 1592, 'initiative': 1590, 'httpdrmkcjrceceuropaeu': 1588, 'array': 1588, 'unisdr': 1587, 'enabledsectionvocabulariesnull': 1587, 'directive': 1580, 'agenda': 1576, 'countries': 1573, 'intelligence': 1560, 'updated': 1554, 'congo': 1554, 'korea': 1554, 'sudan': 1554, 'methods': 1550, 'samoa': 1550, 'russian': 1550, 'council': 1547, 'dwonloadloader': 1546, 'black': 1546, 'specify': 1546, 'virgin': 1546, 'administrative': 1546, 'cvalue': 1546, 'exdays': 1546, 'getcookieinformsurvey': 1546, 'setcookieinformsurvey': 1546, 'elementid': 1546, 'fileurlsubstring': 1546, 'fileurllastindexof': 1546, 'async': 1546, 'informdownloadmanager': 1546, 'organizationid': 1546, 'otherorganization': 1546, 'purposeid': 1546, 'otherpurpose': 1546, 'datatype': 1546, 'header': 1546, 'fail': 1546, 'allorganizations': 1546, 'selectedorganizations': 1546, 'otherorganizationnameval': 1546, 'selectedpurp': 1546, 'otherpurposeofusenameval': 1546, 'filename': 1546, 'assessments': 1529, 'central': 1525, 'regional': 1515, 'three': 1492, 'october': 1477, 'belgium': 1463, 'activities': 1451, 'nations': 1440, 'portugal': 1432, 'where': 1427, 'issues': 1425, 'presentation': 1423, 'economic': 1420, 'develop': 1419, 'network': 1409, 'actors': 1397, 'identify': 1395, 'during': 1388, 'project': 1379, 'paris': 1378, 'methodologies': 1376, 'objectives': 1369, 'common': 1367, 'preparedness': 1364, 'phase': 1355, 'france': 1352, 'session': 1337, 'before': 1333, 'level': 1333, 'local': 1326, 'greece': 1324, 'coordination': 1311, 'population': 1310, 'november': 1310, 'contribute': 1309, 'among': 1305, 'implementation': 1304, 'losse': 1304, 'decisionmaking': 1303, 'monitoring': 1300, 'version': 1290, 'results': 1286, 'status': 1278, 'expert': 1274, 'habitat': 1272, 'understand': 1268, 'future': 1267, 'infrastructure': 1263, 'together': 1254, 'globally': 1254, 'europe': 1253, 'reports': 1246, 'threat': 1245, 'super': 1228, 'presentations': 1227, 'fontweight': 1224, 'measure': 1223, 'place': 1218, 'provides': 1214, 'humanitarian': 1208, 'modelling': 1204, 'classification': 1199, 'discussion': 1196, 'intro': 1195, 'processes': 1182, 'sciencepolicy': 1182, 'interface': 1182, 'lunch': 1182, 'better': 1181, 'element': 1177, 'number': 1165, 'update': 1159, 'between': 1156, 'losses': 1156, 'germany': 1155, 'first': 1154, 'short': 1151, 'context': 1146, 'community': 1144, 'towards': 1143, 'situation': 1138, 'includes': 1137, 'montserrat': 1130, 'operational': 1117, 'communication': 1112, 'isvisualization': 1111, 'leone': 1097, 'kingdom': 1097, 'decisions': 1096, 'policies': 1095, 'present': 1094, 'launch': 1094, 'areas': 1093, 'citizen': 1093, 'threats': 1090, 'impacts': 1089, 'float': 1081, 'recommendations': 1077, 'fontsize': 1072, 'general': 1071, 'groeve': 1070, 'agreed': 1068, 'video': 1066, 'identifying': 1065, 'contribution': 1056, 'outcomes': 1054, 'access': 1048, 'depending': 1044, 'april': 1043, 'padding': 1035, 'across': 1030, 'infrastructures': 1027, 'zindex': 1027, 'collect': 1025, 'selection': 1023, 'platform': 1011, 'borderradius': 1011, 'bordertop': 1011, 'animation': 1011, 'webkitkeyframes': 1011, 'keyframes': 1011, 'decision': 1011, 'share': 1009, 'current': 1008, 'resilience': 1000, 'tuesday': 999, 'partner': 997, 'content': 992, 'spain': 992, 'governance': 986, 'collaboration': 986, 'indicator': 985, 'inclusion': 979, 'manage': 976, 'factor': 976, 'groups': 974, 'background': 973, 'copernicus': 972, 'table': 970, 'start': 968, 'slovenia': 966, 'study': 960, 'const': 959, 'conflict': 958, 'forward': 957, 'these': 954, 'changes': 947, 'world': 943, 'taxonomy': 940, 'effort': 938, 'vocabulary': 938, 'website': 937, 'trend': 937, 'practices': 936, 'switzerland': 931, 'definition': 930, 'particular': 928, 'hidden': 927, 'overflow': 927, 'modified': 927, 'february': 926, 'brussels': 914, 'profiles': 910, 'change': 910, 'years': 908, 'executive': 908, 'north': 908, 'africa': 908, 'identification': 902, 'serie': 893, 'improved': 888, 'needed': 887, 'environment': 885, 'cultural': 879, 'energy': 878, 'sweden': 873, 'affected': 863, 'challenge': 855, 'according': 849, 'aggregation': 849, 'privat': 846, 'minimum': 841, 'false': 840, 'conditions': 839, 'produced': 838, 'stakeholders': 835, 'albania': 834, 'lithuania': 834, 'serbia': 834, 'welcome': 829, 'explore': 827, 'initiatives': 827, 'objective': 824, 'establishing': 823, 'venue': 819, 'proposed': 818, 'fires': 815, 'responsible': 813, 'included': 810, 'planning': 805, 'requirements': 804, 'previous': 803, 'expand': 800, 'references': 800, 'mustacheparse': 798, 'uncertainty': 793, 'should': 791, 'several': 786, 'major': 785, 'climate': 783, 'multistakeholder': 782, 'afghanistan': 777, 'algeria': 777, 'antigua': 777, 'barbuda': 777, 'argentina': 777, 'armenia': 777, 'australia': 777, 'austria': 777, 'azerbaijan': 777, 'bahamas': 777, 'bahrain': 777, 'bangladesh': 777, 'barbados': 777, 'belarus': 777, 'belize': 777, 'benin': 777, 'bhutan': 777, 'bolivia': 777, 'bosnia': 777, 'herzegovina': 777, 'botswana': 777, 'brazil': 777, 'brunei': 777, 'bulgaria': 777, 'burkina': 777, 'burundi': 777, 'verde': 777, 'cambodia': 777, 'cameroon': 777, 'canada': 777, 'african': 777, 'chile': 777, 'colombia': 777, 'comoros': 777, 'costa': 777, 'croatia': 777, 'cyprus': 777, 'czech': 777, 'denmark': 777, 'djibouti': 777, 'dominica': 777, 'dominican': 777, 'ecuador': 777, 'egypt': 777, 'salvador': 777, 'equatorial': 777, 'eritrea': 777, 'estonia': 777, 'eswatini': 777, 'ethiopia': 777, 'finland': 777, 'gabon': 777, 'gambia': 777, 'georgia': 777, 'ghana': 777, 'grenada': 777, 'guatemala': 777, 'guyana': 777, 'haiti': 777, 'honduras': 777, 'hungary': 777, 'iceland': 777, 'india': 777, 'indonesia': 777, 'ireland': 777, 'israel': 777, 'jamaica': 777, 'japan': 777, 'jordan': 777, 'kazakhstan': 777, 'kenya': 777, 'kiribati': 777, 'kuwait': 777, 'kyrgyzstan': 777, 'lebanon': 777, 'lesotho': 777, 'liberia': 777, 'libya': 777, 'liechtenstein': 777, 'madagascar': 777, 'malawi': 777, 'malaysia': 777, 'maldives': 777, 'malta': 777, 'marshall': 777, 'mauritania': 777, 'mauritius': 777, 'mexico': 777, 'micronesia': 777, 'moldova': 777, 'mongolia': 777, 'montenegro': 777, 'morocco': 777, 'mozambique': 777, 'myanmar': 777, 'namibia': 777, 'nauru': 777, 'nepal': 777, 'netherlands': 777, 'zealand': 777, 'nicaragua': 777, 'niger': 777, 'nigeria': 777, 'macedonia': 777, 'pakistan': 777, 'palau': 777, 'palestine': 777, 'panama': 777, 'papua': 777, 'paraguay': 777, 'philippines': 777, 'poland': 777, 'qatar': 777, 'romania': 777, 'rwanda': 777, 'kitts': 777, 'nevis': 777, 'lucia': 777, 'vincent': 777, 'grenadines': 777, 'principe': 777, 'saudi': 777, 'arabia': 777, 'senegal': 777, 'seychelles': 777, 'sierra': 777, 'singapore': 777, 'slovakia': 777, 'solomon': 777, 'somalia': 777, 'lanka': 777, 'suriname': 777, 'tajikistan': 777, 'tanzania': 777, 'thailand': 777, 'tonga': 777, 'trinidad': 777, 'tobago': 777, 'tunisia': 777, 'turkey': 777, 'turkmenistan': 777, 'tuvalu': 777, 'uganda': 777, 'ukraine': 777, 'emirates': 777, 'america': 777, 'uruguay': 777, 'uzbekistan': 777, 'vanuatu': 777, 'venezuela': 777, 'yemen': 777, 'zambia': 777, 'zimbabwe': 777, 'security': 776, 'enable': 773, 'fallback': 773, 'opacity': 773, 'fefefe': 773, 'screene': 773, 'right': 773, 'hovere': 773, 'textdecoration': 773, 'cursor': 773, 'pointer': 773, 'filling': 773, 'downloading': 773, 'authority': 773, 'academy': 773, 'company': 773, 'åland': 773, 'american': 773, 'andorra': 773, 'angola': 773, 'anguilla': 773, 'aruba': 773, 'bermuda': 773, 'bonaire': 773, 'eustatius': 773, 'british': 773, 'cayman': 773, 'macao': 773, 'democratic': 773, 'curaçao': 773, 'timor': 773, 'faeroe': 773, 'falkland': 773, 'malvinas': 773, 'guiana': 773, 'polynesia': 773, 'gibraltar': 773, 'greenland': 773, 'guadeloupe': 773, 'guernsey': 773, 'bissau': 773, 'islamic': 773, 'jersey': 773, 'peoples': 773, 'lativa': 773, 'martinique': 773, 'mayotte': 773, 'monaco': 773, 'caledonia': 773, 'norfolk': 773, 'northern': 773, 'mariana': 773, 'pitcairn': 773, 'puerto': 773, 'réunion': 773, 'fedchechnya': 773, 'helena': 773, 'pierre': 773, 'miquelon': 773, 'saintbarthélemy': 773, 'saintmartin': 773, 'marino': 773, 'maarten': 773, 'dutch': 773, 'svalbard': 773, 'mayen': 773, 'syrian': 773, 'tokelau': 773, 'turks': 773, 'caicos': 773, 'vietnam': 773, 'wallis': 773, 'futuna': 773, 'western': 773, 'sahara': 773, 'making': 773, 'thank': 773, 'complete': 773, 'setcookie': 773, 'dgettime': 773, 'dtoutcstring': 773, 'path': 773, 'getcookie': 773, 'documentcookie': 773, 'calength': 773, 'csubstring': 773, 'namelength': 773, 'checkcookie': 773, 'enter': 773, 'closes': 773, 'thisattrhref': 773, 'thisid': 773, 'typeoforganizationchange': 773, 'selectedtype': 773, 'organizationsappendoptionoptionval': 773, 'organizationname': 773, 'organizationschange': 773, 'selectedorg': 773, 'purposesofusechange': 773, 'spanonclick': 773, 'anywhere': 773, 'outside': 773, 'windowonclick': 773, 'eventtarget': 773, 'nonie': 773, 'documentcreateelementa': 773, 'savetarget': 773, 'navigatoruseragenttolowercasematchipadiphonesafari': 773, 'documentlocation': 773, 'bubbles': 773, 'cancelable': 773, 'savedispatchevent': 773, 'windowwebkiturlrevokeobjecturl': 773, 'savehref': 773, 'activexobject': 773, 'documentexeccommand': 773, 'window': 773, 'windowopen': 773, 'windowdocumentexeccommandsaveas': 773, 'windowclose': 773, 'dwonloadloadershow': 773, 'typeoforganizationval': 773, 'organizationsval': 773, 'countriesval': 773, 'dwonloadloaderhide': 773, 'skipsurveyclick': 773, 'peril': 770, 'shared': 768, 'government': 768, 'publicly': 765, 'cycle': 758, 'documentgetelementbyid': 757, 'toolkit': 756, 'further': 753, 'environmental': 747, 'represents': 735, 'opensource': 732, 'application': 730, 'related': 727, 'acaps': 727, 'adaptation': 723, 'collaborative': 721, 'forum': 718, 'which': 718, 'exchange': 718, 'pillars': 716, 'state': 714, 'myparams': 714, 'parliament': 714, 'dashboard': 713, 'range': 712, 'practitioners': 711, 'evidence': 708, 'progress': 707, 'solutions': 706, 'reliable': 703, 'moderator': 702, 'programme': 702, 'provided': 701, 'mapping': 699, 'third': 699, 'romão': 697, 'minutes': 697, 'critical': 695, 'example': 694, 'reporting': 694, 'specific': 693, 'effective': 684, 'therefore': 684, 'especially': 683, 'component': 679, 'social': 679, 'understanding': 677, 'composite': 677, 'mechanism': 677, 'presented': 675, 'participation': 670, 'systems': 666, 'scale': 666, 'compatibility': 665, 'supporting': 664, 'verticalalign': 659, 'discussions': 657, 'covering': 654, 'providing': 647, 'scope': 646, 'final': 645, 'physical': 645, 'responsetext': 644, 'statistical': 640, 'integrating': 640, 'donovan': 640, 'zuccaro': 640, 'facilities': 640, 'currentuser': 637, 'username': 637, 'displayname': 637, 'issuperuser': 637, 'canview': 637, 'canedit': 637, 'caneditall': 637, 'concept': 636, 'news': 634, 'risks': 634, 'total': 631, 'tpllist': 630, 'resolveddata': 630, 'preparation': 630, 'expertise': 629, 'basis': 629, 'detection': 626, 'portal': 626, 'ispra': 626, 'overall': 625, 'dataall': 623, 'template': 623, 'recovery': 618, 'examples': 617, 'prepare': 616, 'rende': 616, 'review': 615, 'stakeholder': 606, 'driver': 605, 'requested': 600, 'diseases': 599, 'organizations': 599, 'december': 599, 'addressing': 596, 'natural': 596, 'location': 594, 'commissioner': 592, 'approaches': 589, 'analyse': 588, 'ensure': 580, 'point': 574, 'following': 574, 'lessons': 573, 'robust': 569, 'opening': 567, 'partners': 567, 'finance': 567, 'education': 565, 'sustainable': 565, 'christina': 562, 'corbane': 562, 'geographical': 562, 'large': 562, 'decisionmakers': 562, 'monthly': 559, 'programmes': 558, 'reduce': 557, 'effis': 555, 'ainara': 551, 'strategies': 549, 'discussed': 549, 'entered': 546, 'contact': 545, 'resolution': 544, 'rather': 542, 'works': 541, 'alessandra': 540, 'zampieri': 540, 'target': 540, 'after': 538, 'design': 536, 'middle': 524, 'individual': 522, 'solidarity': 522, 'adjourn': 522, 'karmen': 519, 'consultation': 518, 'implementing': 512, 'supported': 512, 'citizens': 511, 'linking': 509, 'steppe': 507, 'material': 504, 'drive': 501, 'structure': 499, 'targets': 492, 'published': 490, 'setting': 488, 'having': 487, 'tailored': 486, 'thematic': 486, 'reviews': 486, 'peter': 486, 'deputy': 486, 'exploitation': 484, 'scientists': 484, 'awareness': 484, 'collecting': 484, 'filterpublication': 483, 'multidisciplinary': 482, 'along': 482, 'insurance': 481, 'draft': 481, 'ecosystem': 480, 'gallego': 480, 'gregorio': 480, 'galbusera': 480, 'theocharidou': 480, 'freire': 480, 'monserrat': 480, 'molinari': 480, 'agriculture': 480, 'krausmann': 480, 'critech': 480, 'loadersetconfig': 480, 'identified': 480, 'province': 480, 'vocabularylocalize': 477, 'tagging_add': 477, 'terms_add': 477, 'tutte': 477, 'siamo': 477, 'taggate': 477, 'owner': 477, 'repository': 476, 'myparamssiteroot': 476, 'relevance': 476, 'seveso': 476, 'regulation': 476, 'donor': 474, 'societies': 474, 'forms': 474, 'integrates': 472, 'rapid': 470, 'resolvedtemplate': 469, 'initscientificoutput': 469, 'consolelogunable': 469, 'engaged': 468, 'regarding': 467, 'statistics': 465, 'experience': 464, 'various': 463, 'multilateral': 463, 'links': 462, 'course': 461, 'medium': 460, 'would': 457, 'systematic': 453, 'underlying': 453, 'margintop': 451, 'enhancing': 449, 'timely': 448, 'organised': 447, 'contextual': 447, 'build': 446, 'prevent': 445, 'probability': 444, 'variabel': 444, 'damages': 442, 'describes': 438, 'improve': 438, 'allows': 434, 'felix': 433, 'policymakers': 432, 'bloch': 432, 'comparable': 429, 'disciplines': 428, 'chapters': 428, 'eruption': 428, 'heritage': 428, 'product': 428, 'building': 427, 'involving': 427, 'wildfire': 424, 'teams': 420, 'university': 419, 'release': 418, 'ongoing': 418, 'goals': 418, 'maxwidth': 416, 'highest': 415, 'managing': 414, 'agreement': 414, 'measuring': 413, 'availability': 413, 'input': 412, 'analytical': 412, 'chosen': 411, 'resilient': 410, 'dependent': 409, 'showing': 408, 'aggregated': 408, 'mitigation': 406, 'communities': 404, 'occur': 404, 'watch': 402, 'committee': 398, 'below': 394, 'megafires': 393, 'module': 392, 'hotel': 392, 'governments': 388, 'created': 388, 'remarks': 387, 'gathered': 387, 'cannot': 386, 'assessing': 385, 'expected': 383, 'addressed': 382, 'profile': 379, 'managed': 378, 'toolkits': 378, 'modeling': 378, 'mysiak': 377, 'institution': 376, 'describe': 371, 'reference': 370, 'strategy': 369, 'legislation': 369, 'respond': 367, 'academia': 367, 'since': 365, 'purpose': 365, 'detailed': 364, 'opportunity': 361, 'sheets': 360, 'agencies': 359, 'rationale': 358, 'online': 357, 'poljansek': 357, 'ehrlich': 357, 'daniele': 357, 'majoraccident': 357, 'treaty': 357, 'inspire': 357, 'average': 355, 'platforms': 354, 'challenges': 354, 'fifth': 351, 'dedicated': 351, 'other': 351, 'multihazard': 349, 'terminology': 348, 'particularly': 347, 'practice': 346, 'direct': 343, 'informal': 342, 'annual': 341, 'facilitating': 339, 'covid': 338, 'authorities': 338, 'cooperation': 338, 'stage': 337, 'break': 331, 'capacities': 331, 'possible': 330, 'approach': 330, 'follows': 328, 'topic': 326, 'additional': 326, 'papers': 325, 'briefs': 325, 'domains': 325, 'drought': 325, 'though': 325, 'coming': 324, 'knows': 324, 'preparatory': 324, 'salamon': 324, 'observatory': 324, 'multi': 324, 'integrated': 324, 'marzia': 324, 'santini': 324, 'typeof': 324, 'standardization': 324, 'kemper': 322, 'search': 322, 'filtertpl': 322, 'pubsy_type': 322, 'pubsy_sciencearea': 322, 'pubsy_dateissued': 322, 'resolvedfilter': 322, 'resolvedheader': 322, 'resolvedselect': 322, 'directly': 322, 'monitor': 322, 'bordertopwidth': 320, 'bordertopstyle': 320, 'tagarev': 320, 'papadopoulos': 320, 'sliuzas': 320, 'ishiwatari': 320, 'kalinowska': 320, 'resch': 320, 'aringa': 320, 'earthquakes': 320, 'bournas': 320, 'petrucci': 320, 'schiavina': 320, 'frigerio': 320, 'housing': 320, 'torres': 320, 'blauhut': 320, 'fukushima': 320, 'daiichi': 320, 'dechy': 320, 'hernandez': 320, 'ceballos': 320, 'tsionis': 320, 'toreti': 320, 'okuyama': 320, 'residential': 320, 'sousa': 320, 'industry': 320, 'girgin': 320, 'šimić': 320, 'eyjafjallajökull': 320, 'agius': 320, 'pescaroli': 320, 'chaudhari': 320, 'jager': 320, 'communicating': 320, 'bruinen': 320, 'bruin': 320, 'vetere': 320, 'arellano': 320, 'claassen': 320, 'pickl': 320, 'petrenj': 320, 'sapountzaki': 320, 'kaźmierczak': 320, 'transferability': 320, 'abundant': 320, 'object': 320, 'bundleurl': 320, 'bundles': 320, 'extjsurl': 320, 'nodedescendantsidslength': 320, 'disablecaching': 320, 'lorem': 320, 'tristique': 320, 'promote': 320, 'affairs': 320, 'batten': 320, 'department': 320, 'mechanisms': 320, 'month': 319, 'metadata': 319, 'opportunities': 319, 'brings': 318, 'globe': 318, 'unified': 318, 'expresses': 318, 'exclusively': 318, 'publication': 318, 'critechnews': 317, 'currentpageformatpage': 317, 'itemsinpageformatdisplaying': 317, 'title_defaultnew': 317, 'edittitle_textedit': 317, 'textlink': 317, 'library': 316, 'responsejson': 315, 'promisealldata': 315, 'cache': 315, 'error': 315, 'errormessage': 315, 'excel': 315, 'topics': 314, 'migration': 314, 'political': 314, 'objectively': 310, 'fields': 310, 'koobservableinfodatetime': 309, 'eclupvm': 308, 'classecludinlineblock': 308, 'target_blank': 308, 'titletitle': 308, 'ecllink': 308, 'standalone': 308, 'templfunction': 308, 'dataarr': 308, 'datafunc': 308, 'each': 308, 'uldetailsul': 308, 'collects': 308, 'variables': 308, 'faste': 308, 'collaboratively': 308, 'articles': 308, 'architecture': 308, 'floods': 308, 'describing': 307, 'intergovernmental': 307, 'latvia': 307, 'feature': 306, 'sense': 300, 'regularly': 300, 'contributors': 299, 'single': 299, 'foreign': 299, 'commonwealth': 299, 'institute': 299, 'specifically': 299, 'organized': 298, 'focused': 296, 'functional': 296, 'sciencebased': 295, 'growth': 295, 'develops': 294, 'emerging': 294, 'trigger': 294, 'moment': 293, 'seasonal': 293, 'textalign': 291, 'marginbottom': 291, 'transmission': 291, 'openended': 291, 'order': 290, 'potentially': 290, 'severe': 290, 'admin': 289, 'automatically': 288, 'dinner': 287, 'criteria': 286, 'decades': 285, 'integrate': 285, 'efforts': 285, 'sampling': 285, 'remote': 285, 'sensing': 285, 'complement': 284, 'tiberiueugen': 281, 'antofie': 281, 'httpsdrmkcjrceceuropaeu': 280, 'drmkcagenda': 280, 'rootfolderpathjs': 280, 'jsonpath': 280, 'intocollapse': 280, 'showbiography': 280, 'showtimeline': 280, 'jrccritechkointializedrmkcagendagrid': 280, 'daynumber': 280, 'pretends': 280, 'subtitle': 280, 'namesurname': 280, 'filedetails': 280, 'industrial': 279, 'increases': 279, 'webplatforms': 279, 'levels': 279, 'epidemics': 278, 'sensitiv': 278, 'against': 278, 'applied': 278, 'aggregates': 278, 'calculating': 278, 'constructed': 278, 'complexity': 278, 'value': 278, 'option': 275, 'exercise': 275, 'concepts': 275, 'effects': 275, 'broken': 275, 'capture': 275, 'relationship': 275, 'preparing': 274, 'comprehensive': 274, 'itself': 274, 'increased': 273, 'active': 273, 'subsequently': 273, 'designed': 273, 'categorise': 273, 'ascertaining': 273, 'encompasses': 272, 'userdriven': 272, 'literature': 272, 'independent': 272, 'considers': 272, 'recover': 272, 'splitte': 272, 'equation': 272, 'exposed': 272, 'geometric': 272, 'connection': 270, 'streaming': 270, 'locally': 270, 'owned': 270, 'roles': 270, 'adapted': 270, 'municipality': 270, 'village': 270, 'involves': 270, 'include': 270, 'words': 269, 'agricultural': 269, 'studies': 268, 'actively': 268, 'technology': 268, 'outline': 268, 'nature': 268, 'articulation': 268, 'liststyletype': 262, 'inlineblock': 262, 'bringing': 258, 'select': 258, 'foster': 257, 'horizontal': 256, 'deliver': 256, 'discuss': 256, 'interested': 255, 'ranking': 255, 'difference': 255, 'taking': 254, 'contributing': 253, 'organisations': 253, 'similar': 253, 'coffee': 252, 'round': 252, 'analysing': 252, 'synergies': 251, 'joined': 251, 'manner': 250, 'achieve': 250, 'follow': 250, 'coverage': 250, 'successful': 250, 'findings': 250, 'cohesion': 250, 'partnerships': 249, 'received': 249, 'newly': 249, 'latvian': 246, 'semester': 246, 'expectations': 246, 'politecnico': 246, 'milano': 246, 'universität': 246, 'potsdam': 246, 'consultations': 245, 'learning': 245, 'evaluation': 242, 'demonstrated': 242, 'carried': 242, 'indepth': 242, 'rvtoken': 242, 'reinforce': 239, 'applicable': 238, 'siteroot': 238, 'myparamsrouteprefix': 238, 'informmvc': 238, 'myparamsapirouteprefix': 238, 'informapi': 238, 'workflowid': 238, 'prepareajaxparamsadmin': 238, 'established': 238, 'declaration': 238, 'settlements': 238, 'dangerous': 238, 'substances': 238, 'amending': 238, 'repealing': 238, 'atomic': 238, 'funds': 238, 'interpretation': 238, 'january': 237, 'assist': 235, 'quick': 234, 'going': 233, 'furthermore': 232, 'strategic': 231, 'broadly': 231, 'required': 231, 'involve': 230, 'looking': 228, 'deadline': 228, 'difficulties': 228, 'continued': 228, 'documentation': 228, 'catalogue': 228, 'months': 227, 'largely': 227, 'balance': 224, 'considered': 224, 'feasibility': 223, 'around': 222, 'fourth': 219, 'scene': 219, 'studie': 218, 'greater': 218, 'menoni': 217, 'mariya': 216, 'gabriel': 216, 'janez': 216, 'lenarčič': 216, 'directorate': 216, 'extreme': 215, 'represent': 212, 'arrival': 212, 'serve': 211, 'economies': 211, 'september': 211, 'compare': 210, 'specifications': 210, 'structures': 210, 'prescribed': 210, 'graph': 210, 'business': 210, 'insurer': 210, 'municipalities': 210, 'answers': 204, 'vulnerabilities': 201, 'guide': 201, 'testing': 198, 'quality': 196, 'evolving': 195, 'benefit': 193, 'purposes': 193, 'form': 192, 'efficient': 192, 'multipel': 192, 'finalizing': 189, 'exploring': 189, 'achievements': 189, 'measurement': 189, 'framed': 189, 'attempted': 189, 'stateoftheart': 189, 'respect': 189, 'usefulness': 189, 'briefly': 189, 'finalization': 189, 'perils': 189, 'monday': 189, 'revised': 189, 'howas': 189, 'medis': 189, 'acpdr': 189, 'disruptive': 189, 'distributed': 189, 'zones': 189, 'indirect': 189, 'focal': 189, 'recently': 189, 'headquarters': 189, 'auditorium': 189, 'joseph': 189, 'compatible': 186, 'strengthening': 184, 'accounting': 184, 'airport': 182, 'undertaken': 182, 'sfwdrr': 182, 'every': 181, 'primary': 180, 'affect': 180, 'assistance': 180, 'dynamic': 179, 'photos': 177, 'picture': 176, 'allocation': 176, 'addition': 176, 'placard': 176, 'exante': 176, 'nonpaper': 176, 'improving': 172, 'representatives': 171, 'staff': 171, 'planned': 171, 'numbers': 171, 'record': 171, 'accepted': 171, 'discussing': 171, 'finalized': 171, 'school': 169, 'seventh': 168, 'oiewg': 168, 'harmonize': 168, 'eurostat': 168, 'movement': 166, 'internal': 165, 'codevelops': 164, 'innovativ': 164, 'translation': 164, 'usable': 164, 'advice': 164, 'eclherobanner': 164, 'imageshade': 164, 'continuously': 164, 'discover': 164, 'authorised': 164, 'corner': 164, 'uploade': 164, 'customised': 164, 'finde': 164, 'still': 164, 'federation': 164, 'releases': 164, 'datasets': 163, 'thomas': 163, 'pillar': 162, 'scheduled': 162, 'training': 162, 'closer': 162, 'sight': 162, 'slides': 162, 'services': 162, 'settlement': 162, 'layer': 162, 'validation': 162, 'spruyt': 162, 'glofas': 162, 'jesus': 162, 'sanmiguel': 162, 'paulo': 162, 'barbosa': 162, 'gdacs': 162, 'alerting': 162, 'realtime': 162, 'webbased': 162, 'alessandro': 162, 'annunziato': 162, 'poljiansek': 162, 'conceptualization': 162, 'principles': 161, 'mitigating': 161, 'pooling': 161, 'granting': 161, 'strives': 161, 'booste': 161, 'transfer': 161, 'endusers': 161, 'facilitate': 161, 'majority': 161, 'enriched': 161, 'directoratesgeneral': 161, 'clear': 161, 'fteams': 161, 'filterresearch': 161, 'fpubsy_type': 161, 'fpubsy_sciencearea': 161, 'fpubsy_dateissued': 161, 'fsearch': 161, 'filter': 161, 'headertpl': 161, 'selecttpl': 161, 'formsubmit': 161, 'addfilter': 161, 'phillips': 161, 'worked': 160, 'heritagestudying': 160, 'helps': 160, 'guiding': 160, 'prediction': 160, 'tackling': 160, 'deals': 160, 'natures': 160, 'highlighting': 160, 'subchapters': 160, 'audience': 160, 'reducing': 160, 'operator': 160, 'problem': 160, 'learned': 160, 'disastrous': 160, 'pointing': 160, 'brought': 160, 'entire': 160, 'lineheight': 160, 'nowrap': 160, 'marginright': 160, 'subsubchapterrow': 160, 'foreword': 160, 'preface': 160, 'contents': 160, 'acknowledgements': 160, 'sgobbi': 160, 'ahlgren': 160, 'simpson': 160, 'wesley': 160, 'poustourli': 160, 'thieken': 160, 'schneiderbauer': 160, 'aguirre': 160, 'ayerbe': 160, 'dobes': 160, 'morsut': 160, 'pedoth': 160, 'tonmoy': 160, 'jackovics': 160, 'thorvaldsdóttir': 160, 'tyrologou': 160, 'castellari': 160, 'greiving': 160, 'cumiskey': 160, 'pulwarty': 160, 'meerpoel': 160, 'goretti': 160, 'assets': 160, 'walia': 160, 'bakon': 160, 'rovnak': 160, 'milenov': 160, 'dyulgerov': 160, 'radkov': 160, 'posthuma': 160, 'shopov': 160, 'markov': 160, 'guchte': 160, 'altamirano': 160, 'wagenaar': 160, 'bucci': 160, 'dolce': 160, 'combescure': 160, 'sargolini': 160, 'scheepers': 160, 'neuvel': 160, 'rocklöv': 160, 'åström': 160, 'coles': 160, 'easthope': 160, 'lorenz': 160, 'meerloo': 160, 'vandenbroucke': 160, 'raskob': 160, 'nanba': 160, 'tanzi': 160, 'athanasopoulou': 160, 'ciurean': 160, 'rossetto': 160, 'bassu': 160, 'perez': 160, 'blanco': 160, 'capitanio': 160, 'ramos': 160, 'ribeiro': 160, 'webber': 160, 'martínez': 160, 'torreenciso': 160, 'petursdottir': 160, 'reichardt': 160, 'gísladóttir': 160, 'hauksdottir': 160, 'johannesdottir': 160, 'sigmundsson': 160, 'thordardottir': 160, 'ulfarsson': 160, 'karagiannis': 160, 'alexander': 160, 'murray': 160, 'novotny': 160, 'sansavini': 160, 'stojadinovic': 160, 'fourtounas': 160, 'salzano': 160, 'paruthummootil': 160, 'cerreta': 160, 'halat': 160, 'artes': 160, 'viegas': 160, 'fernandes': 160, 'faivre': 160, 'moore': 160, 'castellnou': 160, 'peláez': 160, 'belle': 160, 'nikolić': 160, 'pillisihvola': 160, 'notte': 160, 'cortina': 160, 'hombres': 160, 'vignati': 160, 'pisoni': 160, 'lettieri': 160, 'campolongo': 160, 'blanc': 160, 'ratto': 160, 'almeida': 160, 'barrios': 160, 'christl': 160, 'tumino': 160, 'wielen': 160, 'onorante': 160, 'montalto': 160, 'ruedacantuche': 160, 'gawlik': 160, 'tavazzi': 160, 'paupério': 160, 'rousakis': 160, 'montero': 160, 'boersma': 160, 'martelli': 160, 'tulonen': 160, 'scolobig': 160, 'perko': 160, 'górski': 160, 'anson': 160, 'carnelli': 160, 'bossu': 160, 'oliveira': 160, 'laurikainen': 160, 'grandjean': 160, 'kolmann': 160, 'stručić': 160, 'musacchio': 160, 'rossi': 160, 'morgner': 160, 'fakhruddin': 160, 'tilley': 160, 'pelaez': 160, 'videos': 160, 'guarantee': 160, 'proper': 160, 'contributes': 160, 'inspired': 160, 'targeted': 160, 'pilot': 160, 'codeveloped': 160, 'expect': 160, 'consolelogoldview': 160, 'seach': 160, 'thisremove': 160, 'consolelogremoved': 160, 'meetings': 160, 'appfolder': 160, 'mainpaneldiv': 160, 'baseurl': 160, 'bundleversion': 160, 'modulecontentitemid': 160, 'eventid': 160, 'modulesettings': 160, 'viewtype': 160, 'baselist': 160, 'allowtagging': 160, 'automatictagging': 160, 'allowfiltering': 160, 'showlinkallnews': 160, 'minselectedsections': 160, 'maxselectedsections': 160, 'tabpanes': 160, 'contentpanecontentpaneright': 160, 'sectionterms': 160, 'linkallnews': 160, 'accept': 160, 'enabled': 160, 'loadersetpath': 160, 'chart': 160, '': 160, 'critechmeeting': 160, 'currentpageformat': 160, 'itemsinpageformat': 160, 'edittitle_text': 160, 'vocabularyname': 160, 'extgetbodymaskloading': 160, 'loaderloadscript': 160, 'onload': 160, 'extonready': 160, 'myapp': 160, 'ipsum': 160, 'dolor': 160, 'consectetur': 160, 'adipiscing': 160, 'phasellus': 160, 'bibendum': 160, 'vehicula': 160, 'tincidunt': 160, 'hendrerit': 160, 'fringilla': 160, 'fermentum': 160, 'aiming': 160, 'funding': 160, 'twofold': 160, 'remaining': 160, 'facilitates': 160, 'fashion': 160, 'secure': 160, 'accessible': 160, 'visualisation': 160, 'eases': 160, 'discovery': 160, 'instrument': 160, 'themes': 160, 'border': 160, 'customs': 160, 'crime': 160, 'terrorism': 160, 'societal': 160, 'cbrne': 160, 'interagency': 160, 'standing': 160, 'steering': 160, 'dgecho': 160, 'operations': 160, 'economiccooperation': 160, 'unhcr': 160, 'refugees': 160, 'childrens': 160, 'frank': 160, 'leadership': 160, 'centro': 160, 'euromediterraneo': 160, 'cambiamenti': 160, 'climatici': 160, 'gfdrr': 160, 'facility': 160, 'displacement': 160, 'cross': 160, 'crescent': 160, 'ludwig': 160, 'maximilian': 160, 'munich': 160, 'pacific': 160, 'undpa': 160, 'peacebuilding': 160, 'undrr': 160, 'unfpa': 160, 'unuehs': 160, 'generalised': 160, 'indicatons': 160, 'elevated': 160, 'intends': 160, 'complementary': 160, 'resources': 160, 'everyone': 160, 'sheet': 160, 'contains': 160, 'calculation': 160, 'symptom': 156, 'significantly': 155, 'experimental': 155, 'communications': 154, 'participating': 154, 'plusse': 154, 'fatalities': 154, 'collected': 154, 'authoritative': 154, 'containment': 154, 'adopted': 154, 'daily': 154, 'multidimensional': 154, 'github': 154, 'governmental': 154, 'httpscovidstatisticsjrceceuropaeu': 154, 'justifycontent': 154, 'spacearound': 154, 'dflex': 154, 'flexgrow': 154, 'textoverflow': 154, 'ellipsis': 154, 'whitespace': 154, 'classecludflextest': 154, 'classeclutypeparagraph': 154, 'eclumtxs': 154, 'hrefhttpscovidstatisticsjrceceuropaeu': 154, 'eclutypeprolongedm': 154, 'eclutypebold': 154, 'classdflex': 154, 'authori': 154, 'author': 154, 'formatdatedateformatdate': 154, 'publishedi': 154, 'formatdatepublicationdateformatdate': 154, 'categoriesi': 154, 'hrefurl': 154, 'ecluborderbottom': 154, 'httpscovidstatisticsjrceceuropaeudocument': 154, 'documentgetelementbyidtemplateinnerhtml': 154, 'trimme': 154, 'formatdate': 154, 'rawdateformatdd': 154, 'yyyytostring': 154, 'emessage': 154, 'estack': 154, 'datajson': 154, 'media': 154, 'nobullet': 154, 'listgrouphorizontal': 154, 'detailsul': 154, 'imgfluid': 154, 'cleare': 154, 'longterm': 154, 'whose': 154, 'external': 154, 'elaborated': 154, 'methodological': 154, 'clustering': 154, 'conflicts': 154, 'certain': 154, 'determining': 154, 'violence': 154, 'assumption': 154, 'occurrence': 154, 'demographic': 154, 'regression': 154, 'calculate': 154, 'intensity': 154, 'violent': 154, 'predictor': 154, 'imputation': 154, 'threshold': 154, 'light': 154, 'remains': 154, 'firmly': 154, 'rooted': 154, 'conception': 154, 'validated': 154, 'scientifically': 154, 'rigorous': 154, 'baseline': 154, 'communicable': 154, 'caused': 154, 'pathogens': 154, 'wider': 154, 'continents': 154, 'trade': 154, 'influenza': 154, 'ebola': 154, 'plague': 154, 'yellow': 154, 'fever': 154, 'highimpact': 154, 'fastspreading': 154, 'causing': 154, 'frequent': 154, 'increasingly': 154, 'urbanisation': 154, 'augment': 154, 'board': 154, 'rapidly': 154, 'plays': 154, 'crucial': 154, 'triggering': 154, 'builds': 154, 'principle': 154, 'animal': 154, 'comprehensively': 154, 'monitored': 154, 'mandates': 154, 'collaborators': 154, 'commision': 154, 'extracting': 154, 'thousand': 154, 'classifying': 154, 'taken': 154, 'eventually': 154, 'makes': 154, 'amount': 154, 'extracted': 154, 'medisys': 154, 'competence': 154, 'mining': 154, 'visual': 154, 'analytics': 154, 'enables': 154, 'priority': 154, 'demography': 154, 'patterns': 154, 'performing': 154, 'assessesment': 154, 'assessed': 154, 'possibly': 154, 'augmented': 154, 'envisaged': 154, 'newsletter': 154, 'httpdrmkcjrceceuropaeuinnovation': 154, 'arraylastmodifiedondate': 154, 'compiled': 153, 'appropriate': 153, 'frameworks': 153, 'virtual': 150, 'widely': 150, 'weeks': 145, 'feedback': 145, 'combination': 143, 'score': 142, 'disease': 141, 'prototype': 141, 'households': 141, 'control': 140, 'figures': 140, 'socioeconomic': 140, 'effectiveness': 139, 'advantage': 139, 'summarises': 139, 'easily': 139, 'centers': 139, 'karolinska': 139, 'financially': 139, 'regular': 139, 'communicate': 139, 'understandable': 139, 'proportionate': 139, 'justify': 139, 'forgotten': 139, 'unrecognised': 139, 'completely': 139, 'calculations': 139, 'conceptual': 139, 'define': 139, 'simplified': 139, 'subjective': 139, 'reality': 139, 'hierarchical': 139, 'mutually': 139, 'consequential': 139, 'generates': 139, 'complex': 139, 'represented': 139, 'formula': 139, 'weighting': 139, 'values': 139, 'generated': 139, 'arithmetic': 139, 'apply': 139, 'calculated': 139, 'phases': 139, 'credible': 139, 'sectorspecific': 139, 'spreadsheet': 139, 'judgements': 139, 'analysts': 139, 'affects': 139, 'ambiguity': 139, 'significant': 139, 'latest': 139, 'depends': 139, 'actual': 139, 'conduct': 139, 'uptodate': 139, 'snapshot': 139, 'outbreak': 138, 'tracking': 138, 'complemented': 138, 'assesses': 137, 'developed': 137, 'extensive': 137, 'preserving': 137, 'infectious': 137, 'triad': 137, 'agent': 137, 'zoonoses': 137, 'borne': 137, 'persontoperson': 137, 'foodborne': 137, 'waterborne': 137, 'incorporating': 137, 'fully': 137, 'broad': 137, 'envisages': 136, 'counterbalancing': 136, 'force': 136, 'divided': 136, 'strength': 136, 'relativ': 136, 'aspects': 136, 'reflected': 136, 'becomes': 136, 'treated': 136, 'often': 136, 'localized': 136, 'express': 136, 'accommodate': 136, 'hazardexposure': 136, 'multiplicative': 136, 'equals': 136, 'theoretically': 136, 'cyclones': 136, 'populated': 136, 'condition': 136, 'houses': 136, 'built': 136, 'ideal': 136, 'captured': 136, 'unicef': 136, 'sought': 136, 'narrowly': 136, 'carefully': 136, 'justification': 136, 'representative': 136, 'described': 136, 'proportionally': 136, 'responsive': 136, 'avoid': 136, 'capita': 136, 'transparent': 136, 'strengths': 136, 'weaknesses': 136, 'derive': 136, 'continuous': 136, 'consistent': 136, 'scalable': 136, 'yearly': 136, 'typically': 136, 'compromise': 136, 'always': 136, 'mattere': 136, 'merged': 136, 'comprises': 136, 'humaninduced': 136, 'carry': 136, 'equal': 136, 'contemplated': 136, 'killed': 136, 'injured': 136, 'costs': 136, 'addresses': 136, 'predispositions': 136, 'susceptible': 136, 'destabilized': 136, 'dealt': 136, 'separately': 136, 'there': 136, 'variability': 136, 'refers': 136, 'captures': 136, 'question': 136, 'increase': 136, 'ability': 136, 'formal': 136, 'institutional': 136, 'focusing': 136, 'mostly': 136, 'costeffective': 135, 'responsabilities': 135, 'publishes': 135, 'combines': 135, 'simplifies': 135, 'track': 135, 'higher': 135, 'consultative': 135, 'practical': 135, 'driving': 135, 'decide': 135, 'valuable': 135, 'because': 135, 'initiated': 135, 'coalition': 135, 'riskinformed': 135, 'nongovernmental': 135, 'resident': 135, 'coordinators': 135, 'anyone': 135, 'concerned': 135, 'flexible': 135, 'adapting': 135, 'ultimately': 135, 'owning': 135, 'maintaining': 135, 'validates': 135, 'leverage': 135, 'assess': 135, 'maintained': 135, 'refined': 135, 'responsability': 135, 'oneoff': 135, 'responsibility': 135, 'green': 135, 'changing': 134, 'worsening': 134, 'essentially': 134, 'period': 134, 'indicating': 134, 'informationcollection': 134, 'unlike': 134, 'products': 134, 'automated': 134, 'replace': 134, 'simply': 134, 'attempt': 134, 'organisational': 134, 'perhaps': 134, 'creation': 134, 'organise': 134, 'viewed': 134, 'stand': 134, 'alone': 134, 'produce': 134, 'determined': 134, 'conceptualisation': 134, 'frequency': 134, 'constitute': 131, 'increasing': 131, 'throughout': 131, 'despite': 131, 'decreasing': 131, 'burned': 131, 'larger': 131, 'damaging': 131, 'challenging': 131, 'unbalanced': 131, 'suppression': 131, 'normal': 131, 'technologies': 131, 'opens': 131, 'perspectives': 131, 'enhanced': 131, 'dynamics': 131, 'emerged': 131, 'adapt': 131, 'imposed': 131, 'policychallenges': 131, 'divlistchallenges': 131, 'borderbottom': 131, 'eaeaea': 131, 'square': 131, 'requires': 131, 'calls': 131, 'firefighting': 131, 'rescue': 131, 'fireprone': 131, 'adequate': 131, 'landscapes': 131, 'become': 131, 'instruments': 131, 'playing': 131, 'advancing': 131, 'decisionsupport': 131, 'rural': 131, 'eafrd': 131, 'weather': 131, 'forecasts': 131, 'aristotle': 131, 'restoration': 131, 'makers': 131, 'coherence': 131, 'proactive': 131, 'operation': 131, 'participative': 131, 'httpseceuropaeuresearchenvironmentforestfires': 131, 'messages': 131, 'name__requestverificationtokenval': 123, 'contain': 119, 'comparisons': 119, 'incomegroup': 119, 'averages': 119, 'opencountrydetail': 119, 'loadershow': 119, 'countrydetail': 119, 'countrydetailpartialshow': 119, 'buildpageajaxresultval': 119, 'btnglobalmapshow': 119, 'loaderhide': 119, 'myparamsrvtoken': 119, 'isomap': 119, 'btnglobalmapclick': 119, 'countrydetailpartialhide': 119, 'countrydetailpartialempty': 119, 'mappartialshow': 119, 'btnglobalmaphide': 119, 'documentgetelementbyidcountrylistvalue': 119, 'owners': 119, 'curators': 119, 'protectionmechanism': 119, 'paving': 119, 'refinement': 119, 'systematically': 119, 'hardly': 119, 'exist': 119, 'crossborder': 119, 'encourage': 119, 'allhazard': 119, 'stock': 119, 'account': 119, 'earlier': 119, 'francisco': 119, 'doherty': 119, 'brian': 119, 'postevent': 119, 'evidencebased': 119, 'pinto': 119, 'afonso': 119, 'workshops': 119, 'agreements': 119, 'vancouver': 119, 'istanbul': 119, 'euratom': 119, 'consolidated': 119, 'regions': 119, 'identifies': 119, 'prioritising': 119, 'prioritise': 119, 'workflow': 119, 'filters': 119, 'displayed': 119, 'refresh': 119, 'click': 119, 'desired': 119, 'jsnodes': 119, 'loadresultscmbwfval': 119, 'comments': 118, 'means': 115, 'forensics': 114, 'recorded': 114, 'quite': 114, 'allow': 114, 'space': 114, 'moving': 114, 'anecdotal': 114, 'mainly': 114, 'academics': 114, 'firms': 114, 'issue': 114, 'inventory': 114, 'concise': 114, 'limitations': 114, 'improvement': 114, 'minde': 114, 'language': 114, 'advocated': 114, 'encouraged': 114, 'fulfill': 114, 'opted': 114, 'elements': 114, 'explaining': 114, 'languages': 114, 'extract': 114, 'export': 114, 'tables': 114, 'relational': 114, 'postgres': 114, 'spatial': 114, 'shapefile': 114, 'geodatabase': 114, 'upper': 114, 'bounds': 114, 'estimated': 114, 'dont': 114, 'spend': 114, 'approximations': 114, 'assumptions': 114, 'encountered': 114, 'approximation': 114, 'commended': 114, 'underlined': 114, 'roadmap': 114, 'inventories': 114, 'others': 108, 'reader': 108, 'authors': 108, 'conclude': 108, 'paying': 108, 'attention': 108, 'frame': 108, 'reuse': 108, 'protect': 108, 'engage': 108, 'putte': 108, 'downloaded': 108, 'commissioners': 108, 'culture': 108, 'youth': 108, 'directors': 108, 'chirondojan': 108, 'ilkka': 108, 'salmi': 108, 'panel': 108, 'questions': 108, 'might': 100, 'released': 98, 'glossary': 98, 'analyzing': 98, 'establish': 98, 'outcome': 98, 'influence': 98, 'swissre': 98, 'columbia': 98, 'combined': 98, 'asset': 98, 'similarities': 98, 'newlyjoined': 98, 'unknown': 98, 'paper': 98, 'xavier': 98, 'romao': 98, 'esmeralda': 98, 'pauperio': 98, 'sixth': 98, 'recognizing': 96, 'effectively': 96, 'until': 96, 'compared': 96, 'resuls': 96, 'comparative': 96, 'ncouraged': 96, 'formbulgaria': 96, 'formbelgium': 96, 'form_spain': 96, 'formslovenia': 96, 'formromania': 96, 'formpoland': 96, 'form_austria': 96, 'allowing': 96, 'emphasis': 96, 'delivering': 96, 'steer': 96, 'capitalise': 96, 'procedure': 96, 'delivery': 96, 'serving': 96, 'underline': 96, 'reached': 96, 'program': 96, 'recognise': 96, 'inclusive': 96, 'considering': 96, 'prominent': 96, 'harmonise': 96, 'overcome': 96, 'potential': 96, 'obstacles': 96, 'accomplishing': 96, 'progresses': 96, 'neighbourhood': 96, 'synthesise': 96, 'exploiting': 96, 'urban': 96, 'possess': 96, 'dissemination': 96, 'familiar': 96, 'coordinated': 94, 'members': 93, 'presenting': 93, 'networks': 93, 'bulgarian': 93, 'presidency': 93, 'supports': 93, 'implement': 91, 'obtained': 91, 'activation': 91, 'negotiations': 88, 'threefold': 88, 'informing': 88, 'crossover': 88, 'linkages': 88, 'heard': 88, 'surveys': 88, 'unisdrs': 88, 'proposals': 88, 'geneva': 88, 'gained': 88, 'great': 88, 'worldwide': 88, 'recognised': 88, 'strike': 88, 'simpel': 88, 'varying': 88, 'promoting': 88, 'challange': 88, 'organisers': 88, 'headquarter': 88, 'andré': 88, 'pascal': 88, 'transport': 85, 'visitors': 85, 'directives': 84, 'relating': 84, 'implications': 84, 'offices': 84, 'midterm': 84, 'followed': 84, 'thursday': 84, 'implication': 84, 'serje': 84, 'gamper': 84, 'floodcat': 84, 'associated': 84, 'casartelli': 84, 'italian': 84, 'catalog': 84, 'earthquake': 84, 'jfernandez': 84, 'jcid': 84, 'spanish': 84, 'tomas': 84, 'jrc': 84, 'mharrison': 84, 'friday': 84, 'emdat': 84, 'ferruzza': 84, 'istat': 84, 'simmons': 84, 'willis': 84, 'ebeltoft': 84, 'nussbaum': 84, 'euwide': 84, 'bouwmeester': 84, 'enrico': 84, 'fermi': 84, 'initialize': 84, 'gallery': 84, 'blueimp': 84, 'container': 84, 'carousel': 84, 'written': 58, 'oneday': 57, 'currently': 57, 'recentlypublished': 57, 'developments': 57, 'stressed': 57, 'necessary': 57, 'introductory': 57, 'remain': 57, 'finally': 57, 'providers': 57, 'compiling': 57, 'institutionalisation': 57, 'another': 57, 'backtoback': 57, 'deliverables': 57, 'contributions': 57, 'posthfa': 57, 'josephii': 57, 'reviewing': 57, 'defining': 57, 'faculdade': 57, 'engenharia': 57, 'universidade': 57, 'porto': 57, 'kings': 57, 'college': 57, 'london': 57, 'foudation': 57, 'regio': 57, 'clima': 57, 'devco': 57, 'finans': 57, 'norge': 57, 'forsikring': 57, 'pension': 57, 'polish': 57, 'chamber': 57, 'attend': 57, 'seems': 57, 'raises': 57, 'analysed': 57, 'corrections': 57, 'suggestion': 57, 'within': 57, 'concludes': 57, 'although': 57, 'excellent': 57, 'aggregate': 57, 'realistic': 57, 'handling': 57, 'reception': 57, 'intervention': 57, 'salle': 57, 'rouge': 57, 'wachter': 57, 'ownership': 57, 'networking': 57, 'buffet': 57, 'incidents': 57, 'emergencies': 57, 'compound': 45, 'cause': 45, 'exacerbate': 45, 'shown': 41, 'adaptability': 41, 'whole': 41, 'suite': 41, 'incoming': 41, 'conceptually': 41, 'ringfenced': 41, 'broader': 41, 'induced': 41, 'prioritization': 41, 'secondary': 41, 'likely': 41, 'consequences': 41, 'anticipatory': 41, 'pandemic': 41, 'interacts': 41, 'categorised': 41, 'fivelevel': 41, 'thead': 16, 'sticky': 16, 'informwarning': 12, 'eventtargetdatasetvalue': 12, 'oxford': 12, 'tracker': 11, 'prices': 10, 'reported': 10, 'oxcgr': 10, 'inflation': 9, 'consumer': 9, 'webpage': 8, 'unrelated': 8, 'small': 8, 'tracing': 8, 'eventtargetdatasetcountry': 8, 'documentgetelementbyidinfodivstyledisplay': 8, 'documentgetelementbyidexplaininfodivstyledisplay': 8, 'documentgetelementbyidindicatortextvaluestyledisplay': 8, 'relief': 7, 'closing': 7, 'campaign': 7, 'hotspots': 7, 'restrictions': 6, 'income': 6, 'contract': 6, 'epidemiological': 6, 'person': 5, 'legal': 5, 'stringency': 5, 'travel': 5, 'unemployment': 5, 'deprivation': 5, 'acled': 5, 'attribution': 5, 'tested': 4, 'improvements': 4, 'imply': 4, 'behalf': 4, 'preexisting': 4, 'combining': 4, 'structural': 4, 'indirectly': 4, 'minwidth': 4, 'writingmode': 4, 'paddingtop': 4, 'trsecondrow': 4, 'trfourthrow': 4, 'ffefbf': 4, 'lackofcopingcapacity': 4, 'cecece': 4, 'repeatinglineargradient': 4, 'urlcountryvalues': 4, 'renderto': 4, 'custom': 4, 'classified': 4, 'orange': 4, 'subjected': 4, 'revision': 4, 'clicking': 4, 'mouse': 4, 'droughts': 4, 'darussalam': 4, 'guineabissau': 4, 'syria': 4, 'timorleste': 4, 'matrix': 4, 'matrixaddeventlistenermouseover': 4, 'undefined': 4, 'intervalid': 4, 'documentgetelementbyidcountrylabelinnerhtml': 4, 'documentgetelementbyidindicatorlabelinnerhtml': 4, 'documentgetelementbyidindicatortextvalueinnerhtml': 4, 'documentgetelementbyidindicatorvaluestyledisplay': 4, 'maindiv': 4, 'documentgetelementbyidcountryinfoflag': 4, 'maindivstylebackgroundimage': 4, 'urlinformindex': 4, 'documentbaseurihref': 4, 'dataset': 4, 'armed': 4, 'salary': 4, 'noncommercial': 4, 'hotspot': 3, 'require': 3, 'leaving': 3, 'house': 3, 'creative': 3, 'commons': 3, 'datasources': 2, 'evolution': 2, 'geographic': 2, 'distribution': 2, 'worldwid': 2, 'anomaly': 2, 'production': 2, 'replacing': 2, 'median': 2, 'highrisk': 2, 'recommend': 2, 'closures': 2, 'academic': 2, 'leave': 2, 'blavatnik': 2, 'financial': 2, 'thresholds': 1, 'notification': 1, 'gross': 1, 'domestic': 1, 'constant': 1, 'narrow': 1, 'quarantine': 1, 'closure': 1, 'volume': 1, 'route': 1, 'prohibit': 1, 'closed': 1, 'partially': 1, 'grocery': 1, 'shopping': 1, 'minimal': 1, 'exceptions': 1, 'allowed': 1, 'official': 1, 'urging': 1, 'caution': 1, 'workers': 1, 'admitted': 1, 'hospital': 1, 'known': 1, 'returned': 1, 'overseas': 1, 'asymptomatic': 1, 'citation': 1, 'licence': 1, 'licenses': 1, 'charge': 1, 'nonprofit': 1, 'subject': 1, 'licens': 1, 'granted': 1, 'forprofit': 1, 'outlets': 1, 'citing': 1, 'journalism': 1, 'discourse': 1, 'prior': 1, 'approval': 1, 'webster': 1, 'petherick': 1, 'beatriz': 1, 'appeals': 1, 'httpftsunochaorg': 1, 'personal': 1, 'blogs': 1, 'materials': 1, 'suitable': 1, 'monetary': 1, 'outlook': 1, 'edition': 1, 'rembold': 1, 'automatic': 1, 'vegetation': 1, 'anomalies': 1, 'httpseceuropaeuinfolegalnotice_en': 1, 'unesco': 1, 'power': 1, 'alert': 1, 'price': 1, 'spikes': 1})\n"
     ]
    }
   ],
   "source": [
    "# Keywords based on counts\n",
    "\n",
    "drr_tokens = [entry['tokens'] for entry in data]\n",
    "drr_tokens_flat = list(itertools.chain(*drr_tokens))\n",
    "\n",
    "print(Counter(drr_tokens_flat))"
   ]
  },
  {
   "cell_type": "code",
   "execution_count": 10,
   "metadata": {},
   "outputs": [
    {
     "data": {
      "text/plain": [
       "function                                      211767.852039\n",
       "newcategorysectionsettingscategorysection     184525.204441\n",
       "return                                        119502.850664\n",
       "found                                         106026.123381\n",
       "inform                                         77028.129831\n",
       "koutilsarrayforeach                            63629.726973\n",
       "index                                          58183.568533\n",
       "disaster                                       57478.570083\n",
       "delete                                         49295.723169\n",
       "termid                                         47184.435493\n",
       "european                                       43251.185188\n",
       "itemscount                                     42958.258630\n",
       "management                                     42208.284026\n",
       "document                                       42073.504561\n",
       "download                                       41898.111416\n",
       "island                                         41796.568622\n",
       "selected                                       39350.804112\n",
       "severity                                       37227.851404\n",
       "science                                        34431.583322\n",
       "findnodebyname                                 33931.170071\n",
       "descendantsids                                 33931.170071\n",
       "today                                          32308.593602\n",
       "protecting                                     32308.593602\n",
       "tomorrow                                       32308.593602\n",
       "acting                                         32259.505449\n",
       "marin                                          32201.732937\n",
       "clark                                          32173.154296\n",
       "ferrer                                         31420.729865\n",
       "parenttermid                                   31304.607749\n",
       "poljanšek                                      31303.609586\n",
       "intposition                                    30769.257467\n",
       "overview                                       30187.052593\n",
       "knowledge                                      29784.010334\n",
       "valles                                         27437.868083\n",
       "casajus                                        27217.935361\n",
       "modal                                          26885.235595\n",
       "office                                         26580.441557\n",
       "union                                          26039.009461\n",
       "information                                    25664.557108\n",
       "publications                                   25311.275301\n",
       "dimension                                      24532.596713\n",
       "parent                                         23879.968523\n",
       "result                                         23437.081857\n",
       "luxembourg                                     23418.313587\n",
       "documents                                      22898.680625\n",
       "createnode                                     22273.917677\n",
       "vocaluarycategorysettingscompletisenzahome     22273.917677\n",
       "findancestor                                   22273.917677\n",
       "retval                                         22273.917677\n",
       "property                                       22273.917677\n",
       "dtype: float64"
      ]
     },
     "execution_count": 10,
     "metadata": {},
     "output_type": "execute_result"
    }
   ],
   "source": [
    "# Keywords based on TF-IDF\n",
    "\n",
    "vectorizer = TfidfVectorizer(\n",
    "    tokenizer=return_tokens,\n",
    "    preprocessor=return_tokens,\n",
    "    token_pattern=None,\n",
    "    norm = False)\n",
    "\n",
    "# Fitting vectorizer\n",
    "transformed_documents = vectorizer.fit_transform(drr_tokens)\n",
    "transformed_documents_as_array = transformed_documents.toarray()\n",
    "df = pd.DataFrame(transformed_documents_as_array, columns = vectorizer.get_feature_names())\n",
    "\n",
    "# Word count\n",
    "word_tfidfsum = df.sum().sort_values(ascending = False)\n",
    "word_tfidfsum[0:50]"
   ]
  },
  {
   "cell_type": "code",
   "execution_count": 11,
   "metadata": {},
   "outputs": [
    {
     "ename": "NameError",
     "evalue": "name 'tokens_tfidf' is not defined",
     "output_type": "error",
     "traceback": [
      "\u001b[0;31m---------------------------------------------------------------------------\u001b[0m",
      "\u001b[0;31mNameError\u001b[0m                                 Traceback (most recent call last)",
      "\u001b[0;32m<ipython-input-11-2fc6e96533a6>\u001b[0m in \u001b[0;36m<module>\u001b[0;34m\u001b[0m\n\u001b[1;32m     27\u001b[0m \u001b[0;31m## Compute Coherence Score - https://svn.aksw.org/papers/2015/WSDM_Topic_Evaluation/public.pdf\u001b[0m\u001b[0;34m\u001b[0m\u001b[0;34m\u001b[0m\u001b[0;34m\u001b[0m\u001b[0m\n\u001b[1;32m     28\u001b[0m \u001b[0;34m\u001b[0m\u001b[0m\n\u001b[0;32m---> 29\u001b[0;31m \u001b[0mcoherence_model_lda\u001b[0m \u001b[0;34m=\u001b[0m \u001b[0mCoherenceModel\u001b[0m\u001b[0;34m(\u001b[0m\u001b[0mmodel\u001b[0m\u001b[0;34m=\u001b[0m\u001b[0mlda_model\u001b[0m\u001b[0;34m,\u001b[0m \u001b[0mcorpus\u001b[0m\u001b[0;34m=\u001b[0m\u001b[0mtokens_tfidf\u001b[0m\u001b[0;34m,\u001b[0m \u001b[0mcoherence\u001b[0m\u001b[0;34m=\u001b[0m\u001b[0;34m'u_mass'\u001b[0m\u001b[0;34m)\u001b[0m\u001b[0;34m\u001b[0m\u001b[0;34m\u001b[0m\u001b[0m\n\u001b[0m\u001b[1;32m     30\u001b[0m \u001b[0;34m\u001b[0m\u001b[0m\n\u001b[1;32m     31\u001b[0m \u001b[0mcoherence_ldamodel\u001b[0m \u001b[0;34m=\u001b[0m \u001b[0mcoherence_model_lda\u001b[0m\u001b[0;34m.\u001b[0m\u001b[0mget_coherence\u001b[0m\u001b[0;34m(\u001b[0m\u001b[0;34m)\u001b[0m\u001b[0;34m\u001b[0m\u001b[0;34m\u001b[0m\u001b[0m\n",
      "\u001b[0;31mNameError\u001b[0m: name 'tokens_tfidf' is not defined"
     ]
    }
   ],
   "source": [
    "# LDA\n",
    "\n",
    "## Dictionary and filter extremes\n",
    "id2token = corpora.Dictionary([entry.get('tokens') for entry in data])\n",
    "\n",
    "## Gensim doc2bow corpus\n",
    "for entry in data:\n",
    "    entry['doc2bow'] = id2token.doc2bow(entry.get('tokens'))    \n",
    "    \n",
    "tokens_bow = [entry.get('doc2bow') for entry in data]\n",
    "\n",
    "## LDA model\n",
    "\n",
    "lda_model = gensim.models.LdaMulticore(corpus = tokens_bow, \n",
    "                                       num_topics = 5, \n",
    "                                       id2word = id2token, \n",
    "                                       chunksize = 1000, \n",
    "                                       passes = 20, \n",
    "                                       workers = 4, \n",
    "                                       iterations = 2000, \n",
    "                                       random_state = 1332)\n",
    "\n",
    "## Save model\n",
    "lda_model.save(os.path.join(out_path, 'lda_model'))"
   ]
  },
  {
   "cell_type": "code",
   "execution_count": 12,
   "metadata": {},
   "outputs": [
    {
     "name": "stdout",
     "output_type": "stream",
     "text": [
      "\n",
      "Coherence Score:  -0.9961586469086677\n"
     ]
    }
   ],
   "source": [
    "\n",
    "## Compute Coherence Score - https://svn.aksw.org/papers/2015/WSDM_Topic_Evaluation/public.pdf\n",
    "\n",
    "coherence_model_lda = CoherenceModel(model=lda_model, corpus=tokens_bow, coherence='u_mass')\n",
    "\n",
    "coherence_ldamodel = coherence_model_lda.get_coherence() \n",
    "print('\\nCoherence Score: ', coherence_ldamodel)"
   ]
  },
  {
   "cell_type": "code",
   "execution_count": 13,
   "metadata": {},
   "outputs": [
    {
     "name": "stdout",
     "output_type": "stream",
     "text": [
      "[(0,\n",
      "  [('function', 0.0654587),\n",
      "   ('newcategorysectionsettingscategorysection', 0.0560907),\n",
      "   ('return', 0.040476732),\n",
      "   ('found', 0.032441825),\n",
      "   ('koutilsarrayforeach', 0.019348621),\n",
      "   ('delete', 0.014996609),\n",
      "   ('termid', 0.014413365),\n",
      "   ('document', 0.0131664155),\n",
      "   ('itemscount', 0.012601631),\n",
      "   ('selected', 0.012577026)]),\n",
      " (1,\n",
      "  [('disaster', 0.02669608),\n",
      "   ('recording', 0.023992002),\n",
      "   ('workshop', 0.02145153),\n",
      "   ('meeting', 0.02126042),\n",
      "   ('damage', 0.020715354),\n",
      "   ('group', 0.017391969),\n",
      "   ('working', 0.017387925),\n",
      "   ('database', 0.017108247),\n",
      "   ('download', 0.01669837),\n",
      "   ('collection', 0.013906808)]),\n",
      " (2,\n",
      "  [('european', 0.030643007),\n",
      "   ('commission', 0.023119602),\n",
      "   ('management', 0.022774452),\n",
      "   ('disaster', 0.020152181),\n",
      "   ('knowledge', 0.017898582),\n",
      "   ('drmkc', 0.016303295),\n",
      "   ('information', 0.013969805),\n",
      "   ('explorer', 0.013960111),\n",
      "   ('research', 0.011785915),\n",
      "   ('projects', 0.009564656)]),\n",
      " (3,\n",
      "  [('inform', 0.030696405),\n",
      "   ('function', 0.021208737),\n",
      "   ('index', 0.01600759),\n",
      "   ('island', 0.013894391),\n",
      "   ('severity', 0.011732863),\n",
      "   ('modal', 0.008920558),\n",
      "   ('result', 0.008247084),\n",
      "   ('width', 0.006877125),\n",
      "   ('dimension', 0.006728082),\n",
      "   ('republic', 0.0059922286)]),\n",
      " (4,\n",
      "  [('disaster', 0.031289995),\n",
      "   ('management', 0.029768359),\n",
      "   ('science', 0.026092686),\n",
      "   ('acting', 0.024412297),\n",
      "   ('today', 0.024386365),\n",
      "   ('protecting', 0.024386365),\n",
      "   ('tomorrow', 0.024386365),\n",
      "   ('european', 0.02212202),\n",
      "   ('publications', 0.021060163),\n",
      "   ('marin', 0.020572124)])]\n"
     ]
    }
   ],
   "source": [
    "from pprint import pprint \n",
    "\n",
    "# Show Topics\n",
    "pprint(lda_model.show_topics(formatted=False, num_topics=15))"
   ]
  },
  {
   "cell_type": "code",
   "execution_count": null,
   "metadata": {},
   "outputs": [],
   "source": []
  }
 ],
 "metadata": {
  "kernelspec": {
   "display_name": "Python 3.8, tm",
   "language": "python",
   "name": "tmenv"
  },
  "language_info": {
   "codemirror_mode": {
    "name": "ipython",
    "version": 3
   },
   "file_extension": ".py",
   "mimetype": "text/x-python",
   "name": "python",
   "nbconvert_exporter": "python",
   "pygments_lexer": "ipython3",
   "version": "3.8.10"
  }
 },
 "nbformat": 4,
 "nbformat_minor": 4
}
